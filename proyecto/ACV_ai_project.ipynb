{
  "nbformat": 4,
  "nbformat_minor": 0,
  "metadata": {
    "colab": {
      "name": "ACV_ai_project",
      "provenance": [],
      "collapsed_sections": [],
      "toc_visible": true
    },
    "kernelspec": {
      "name": "python3",
      "display_name": "Python 3"
    },
    "accelerator": "GPU"
  },
  "cells": [
    {
      "cell_type": "markdown",
      "metadata": {
        "id": "1JfO4bt9tXWZ",
        "colab_type": "text"
      },
      "source": [
        "# Proyecto IA 2019-2\n",
        "<img src=\"https://raw.githubusercontent.com/ivanrcas/ACV_ai_project/master/proyecto/banner.png\" border=\"3\" width=\"700px\">\n",
        "\n",
        "**<h1>Análisis de calidad de vida en Colombia</h1>**<br>\n",
        "INTEGRANTES\n",
        "* Ivan Castillo\n",
        "* Juan Castellanos\n",
        "* Gabriela Vega\n",
        "\n",
        "**<h2>Encuesta Nacional de Calidad de Vida</h2>** \n",
        "\n",
        "Estas investigaciones cuantifican y caracterizan las condiciones de vida de los colombianos. Se utiliza un dateset realizado en el año 2018 (Censo nacional) por el DANE.\n",
        "\n",
        "\n",
        "**<h2>Descripción del problema</h2>**\n",
        "\n",
        "Clasificar por vivienda y servicios básicos las características que influyen en la calidad de vida de los hogares colombianos.\n",
        "*   Servicio de luz electrica\n",
        "*   Servicio de alcantarillado\n",
        "*   Servicio de agua\n",
        "*   Recolección de basuras\n",
        "\n",
        "Por otro lado, se analiza el tipo de vivienda en el cual habitan los diferentes hogares y factores externos que influyen en la calidad de vidad como:\n",
        "\n",
        "*   Avalanchas, derrumbes o deslizamientos.\n",
        "*   Hundimientos de terrenos.\n",
        "*   Ruidos provenientes del exterior.\n",
        "*   Malos olores.\n",
        "*   Presencia de basuras en las calles.\n",
        "*   Contaminación por polución.\n",
        "*   Contaminación en las fuentes hidrícas.\n",
        "*   invación del espacio pubiblico.\n",
        "*   Presencia de roedores.\n",
        "*   Presencia de insectos.\n",
        "\n"
      ]
    },
    {
      "cell_type": "markdown",
      "metadata": {
        "id": "v_qsNw7GeIBJ",
        "colab_type": "text"
      },
      "source": [
        "<hr>"
      ]
    },
    {
      "cell_type": "code",
      "metadata": {
        "id": "ovHe4MbvtWvg",
        "colab_type": "code",
        "colab": {}
      },
      "source": [
        "#Drive Mount - Juan\n",
        "from google.colab import drive\n",
        "drive.mount('/content/drive')\n",
        "%cd drive/My Drive/ai-uis-student/Proyecto_inteligencia_artificial\n",
        "!pwd"
      ],
      "execution_count": 0,
      "outputs": []
    },
    {
      "cell_type": "code",
      "metadata": {
        "id": "wYJJ_F-Zngvx",
        "colab_type": "code",
        "colab": {}
      },
      "source": [
        "# Drive Mount - Para Ivan y Gabriela\n",
        "from google.colab import drive\n",
        "drive.mount('/content/drive')\n",
        "%cd drive/My Drive/Proyecto_inteligencia_artificial\n",
        "!pwd"
      ],
      "execution_count": 0,
      "outputs": []
    },
    {
      "cell_type": "markdown",
      "metadata": {
        "id": "c0p4IKQGvqGj",
        "colab_type": "text"
      },
      "source": [
        "# **1. IMPORTAR LIBRERÍAS**\n"
      ]
    },
    {
      "cell_type": "code",
      "metadata": {
        "id": "ubEvTlENvpUu",
        "colab_type": "code",
        "colab": {}
      },
      "source": [
        "from __future__ import division, print_function, unicode_literals #py2 and py3\n",
        "import numpy as np\n",
        "import pandas as pd\n",
        "import matplotlib.pyplot as plt\n",
        "import scipy.stats as stats\n",
        "from sklearn.model_selection import KFold\n",
        "from sklearn.metrics import *\n",
        "from sklearn.model_selection import cross_val_score,  train_test_split\n",
        "from sklearn.metrics import make_scorer, mean_absolute_error\n",
        "from sklearn.pipeline import Pipeline\n",
        "from sklearn.decomposition import PCA\n",
        "#Función que retorna el tiempo de ejecución. Se utilizará para observaciones y analisis más adelante.\n",
        "import time"
      ],
      "execution_count": 0,
      "outputs": []
    },
    {
      "cell_type": "markdown",
      "metadata": {
        "id": "2bq8mkDUvxpa",
        "colab_type": "text"
      },
      "source": [
        "#**2. TRATAMIENTO DE DATOS**\n",
        "\n",
        "\n",
        "\n"
      ]
    },
    {
      "cell_type": "markdown",
      "metadata": {
        "id": "f8zTOWO6v1ue",
        "colab_type": "text"
      },
      "source": [
        "Fuentes de datasets: \n",
        "*   [Ingresar a descripción de variables (Nombres de columnas)](http://microdatos.dane.gov.co/index.php/catalog/607/data_dictionary#page=F130&tab=data-dictionary)\n",
        "*   [Fuente del Dataset DANE - Datos de la vivienda](http://microdatos.dane.gov.co/index.php/catalog/607/get_microdata)\n",
        "\n",
        "Se carga el dataset y se realizará un tratamiento a las filas que contengan datos nulos con cadenas vacióas o NaN para evitar el sesgo en el analísis."
      ]
    },
    {
      "cell_type": "code",
      "metadata": {
        "id": "y3cKFz6LvlgL",
        "colab_type": "code",
        "outputId": "8be34d06-465c-4621-df53-2cbedd07529a",
        "colab": {
          "base_uri": "https://localhost:8080/",
          "height": 380
        }
      },
      "source": [
        "#Lectura de datos\n",
        "d = pd.read_csv(\"../Proyecto_inteligencia_artificial/data/dataProyecto.csv\", sep=\";\")\n",
        "d.replace(' ',np.nan, inplace=True)\n",
        "print(d.shape)\n",
        "d.head(10)\n",
        "#1-Lo primero que vamos hacer es cargar todo el data ser para poder trabajar con el teniendo en cuenta que el sep que le indica a pandas como se parte el dataset.\n",
        "#2-Lo segundo es que vamos a rellenar datos que se encuentren vacios con NaN para poder identificarlos.\n"
      ],
      "execution_count": 3,
      "outputs": [
        {
          "output_type": "stream",
          "text": [
            "(88713, 35)\n"
          ],
          "name": "stdout"
        },
        {
          "output_type": "execute_result",
          "data": {
            "text/html": [
              "<div>\n",
              "<style scoped>\n",
              "    .dataframe tbody tr th:only-of-type {\n",
              "        vertical-align: middle;\n",
              "    }\n",
              "\n",
              "    .dataframe tbody tr th {\n",
              "        vertical-align: top;\n",
              "    }\n",
              "\n",
              "    .dataframe thead th {\n",
              "        text-align: right;\n",
              "    }\n",
              "</style>\n",
              "<table border=\"1\" class=\"dataframe\">\n",
              "  <thead>\n",
              "    <tr style=\"text-align: right;\">\n",
              "      <th></th>\n",
              "      <th>DIRECTORIO</th>\n",
              "      <th>SECUENCIA_ENCUESTA</th>\n",
              "      <th>SECUENCIA_P</th>\n",
              "      <th>ORDEN</th>\n",
              "      <th>REGION</th>\n",
              "      <th>DPTO</th>\n",
              "      <th>FEX_C</th>\n",
              "      <th>CANT_HOG_COMPLETOS</th>\n",
              "      <th>CANT_HOGARES_VIVIENDA</th>\n",
              "      <th>CLASE</th>\n",
              "      <th>P1070</th>\n",
              "      <th>P4005</th>\n",
              "      <th>P4015</th>\n",
              "      <th>P4567</th>\n",
              "      <th>P8520</th>\n",
              "      <th>P8520S1</th>\n",
              "      <th>P8520S1A1</th>\n",
              "      <th>P8520S5</th>\n",
              "      <th>P8520S3</th>\n",
              "      <th>P8520S4</th>\n",
              "      <th>P8520S4A1</th>\n",
              "      <th>P4065</th>\n",
              "      <th>P4065S1</th>\n",
              "      <th>P4065S2</th>\n",
              "      <th>P4065S3</th>\n",
              "      <th>P4065S4</th>\n",
              "      <th>P5661</th>\n",
              "      <th>P5661S1</th>\n",
              "      <th>P5661S2</th>\n",
              "      <th>P5661S3</th>\n",
              "      <th>P5661S4</th>\n",
              "      <th>P5661S9</th>\n",
              "      <th>P5661S5</th>\n",
              "      <th>P5661S6</th>\n",
              "      <th>P5661S7</th>\n",
              "    </tr>\n",
              "  </thead>\n",
              "  <tbody>\n",
              "    <tr>\n",
              "      <th>0</th>\n",
              "      <td>7000000</td>\n",
              "      <td>1</td>\n",
              "      <td>1</td>\n",
              "      <td>1</td>\n",
              "      <td>1</td>\n",
              "      <td>8</td>\n",
              "      <td>384,328169349074</td>\n",
              "      <td>1</td>\n",
              "      <td>1</td>\n",
              "      <td>1</td>\n",
              "      <td>1</td>\n",
              "      <td>1</td>\n",
              "      <td>6</td>\n",
              "      <td>3</td>\n",
              "      <td>NaN</td>\n",
              "      <td>1</td>\n",
              "      <td>2</td>\n",
              "      <td>1</td>\n",
              "      <td>1</td>\n",
              "      <td>1</td>\n",
              "      <td>6</td>\n",
              "      <td>NaN</td>\n",
              "      <td>2</td>\n",
              "      <td>2</td>\n",
              "      <td>2</td>\n",
              "      <td>2</td>\n",
              "      <td>NaN</td>\n",
              "      <td>3</td>\n",
              "      <td>3</td>\n",
              "      <td>3</td>\n",
              "      <td>2</td>\n",
              "      <td>1</td>\n",
              "      <td>2</td>\n",
              "      <td>4</td>\n",
              "      <td>3</td>\n",
              "    </tr>\n",
              "    <tr>\n",
              "      <th>1</th>\n",
              "      <td>7000001</td>\n",
              "      <td>1</td>\n",
              "      <td>1</td>\n",
              "      <td>1</td>\n",
              "      <td>1</td>\n",
              "      <td>8</td>\n",
              "      <td>297,172456158384</td>\n",
              "      <td>1</td>\n",
              "      <td>1</td>\n",
              "      <td>1</td>\n",
              "      <td>2</td>\n",
              "      <td>1</td>\n",
              "      <td>4</td>\n",
              "      <td>1</td>\n",
              "      <td>NaN</td>\n",
              "      <td>1</td>\n",
              "      <td>2</td>\n",
              "      <td>1</td>\n",
              "      <td>1</td>\n",
              "      <td>1</td>\n",
              "      <td>6</td>\n",
              "      <td>NaN</td>\n",
              "      <td>2</td>\n",
              "      <td>2</td>\n",
              "      <td>2</td>\n",
              "      <td>2</td>\n",
              "      <td>NaN</td>\n",
              "      <td>2</td>\n",
              "      <td>2</td>\n",
              "      <td>1</td>\n",
              "      <td>2</td>\n",
              "      <td>1</td>\n",
              "      <td>2</td>\n",
              "      <td>2</td>\n",
              "      <td>2</td>\n",
              "    </tr>\n",
              "    <tr>\n",
              "      <th>2</th>\n",
              "      <td>7000002</td>\n",
              "      <td>1</td>\n",
              "      <td>1</td>\n",
              "      <td>1</td>\n",
              "      <td>1</td>\n",
              "      <td>8</td>\n",
              "      <td>274,640130499086</td>\n",
              "      <td>1</td>\n",
              "      <td>1</td>\n",
              "      <td>1</td>\n",
              "      <td>2</td>\n",
              "      <td>1</td>\n",
              "      <td>4</td>\n",
              "      <td>1</td>\n",
              "      <td>NaN</td>\n",
              "      <td>1</td>\n",
              "      <td>3</td>\n",
              "      <td>1</td>\n",
              "      <td>1</td>\n",
              "      <td>1</td>\n",
              "      <td>3</td>\n",
              "      <td>NaN</td>\n",
              "      <td>2</td>\n",
              "      <td>2</td>\n",
              "      <td>2</td>\n",
              "      <td>2</td>\n",
              "      <td>NaN</td>\n",
              "      <td>3</td>\n",
              "      <td>1</td>\n",
              "      <td>1</td>\n",
              "      <td>1</td>\n",
              "      <td>1</td>\n",
              "      <td>1</td>\n",
              "      <td>2</td>\n",
              "      <td>3</td>\n",
              "    </tr>\n",
              "    <tr>\n",
              "      <th>3</th>\n",
              "      <td>7000003</td>\n",
              "      <td>1</td>\n",
              "      <td>1</td>\n",
              "      <td>1</td>\n",
              "      <td>2</td>\n",
              "      <td>15</td>\n",
              "      <td>125,253015015194</td>\n",
              "      <td>1</td>\n",
              "      <td>1</td>\n",
              "      <td>1</td>\n",
              "      <td>1</td>\n",
              "      <td>1</td>\n",
              "      <td>4</td>\n",
              "      <td>1</td>\n",
              "      <td>NaN</td>\n",
              "      <td>1</td>\n",
              "      <td>3</td>\n",
              "      <td>1</td>\n",
              "      <td>1</td>\n",
              "      <td>1</td>\n",
              "      <td>3</td>\n",
              "      <td>NaN</td>\n",
              "      <td>2</td>\n",
              "      <td>2</td>\n",
              "      <td>2</td>\n",
              "      <td>2</td>\n",
              "      <td>NaN</td>\n",
              "      <td>3</td>\n",
              "      <td>1</td>\n",
              "      <td>4</td>\n",
              "      <td>2</td>\n",
              "      <td>1</td>\n",
              "      <td>4</td>\n",
              "      <td>1</td>\n",
              "      <td>2</td>\n",
              "    </tr>\n",
              "    <tr>\n",
              "      <th>4</th>\n",
              "      <td>7000004</td>\n",
              "      <td>1</td>\n",
              "      <td>1</td>\n",
              "      <td>1</td>\n",
              "      <td>2</td>\n",
              "      <td>15</td>\n",
              "      <td>195,420015121655</td>\n",
              "      <td>1</td>\n",
              "      <td>1</td>\n",
              "      <td>1</td>\n",
              "      <td>2</td>\n",
              "      <td>1</td>\n",
              "      <td>4</td>\n",
              "      <td>3</td>\n",
              "      <td>NaN</td>\n",
              "      <td>1</td>\n",
              "      <td>3</td>\n",
              "      <td>1</td>\n",
              "      <td>1</td>\n",
              "      <td>1</td>\n",
              "      <td>3</td>\n",
              "      <td>NaN</td>\n",
              "      <td>2</td>\n",
              "      <td>2</td>\n",
              "      <td>2</td>\n",
              "      <td>2</td>\n",
              "      <td>NaN</td>\n",
              "      <td>1</td>\n",
              "      <td>4</td>\n",
              "      <td>3</td>\n",
              "      <td>1</td>\n",
              "      <td>1</td>\n",
              "      <td>1</td>\n",
              "      <td>3</td>\n",
              "      <td>2</td>\n",
              "    </tr>\n",
              "    <tr>\n",
              "      <th>5</th>\n",
              "      <td>7000005</td>\n",
              "      <td>1</td>\n",
              "      <td>1</td>\n",
              "      <td>1</td>\n",
              "      <td>2</td>\n",
              "      <td>68</td>\n",
              "      <td>257,551129890048</td>\n",
              "      <td>1</td>\n",
              "      <td>1</td>\n",
              "      <td>1</td>\n",
              "      <td>2</td>\n",
              "      <td>1</td>\n",
              "      <td>6</td>\n",
              "      <td>4</td>\n",
              "      <td>NaN</td>\n",
              "      <td>1</td>\n",
              "      <td>2</td>\n",
              "      <td>1</td>\n",
              "      <td>1</td>\n",
              "      <td>1</td>\n",
              "      <td>3</td>\n",
              "      <td>NaN</td>\n",
              "      <td>2</td>\n",
              "      <td>2</td>\n",
              "      <td>2</td>\n",
              "      <td>2</td>\n",
              "      <td>NaN</td>\n",
              "      <td>1</td>\n",
              "      <td>3</td>\n",
              "      <td>1</td>\n",
              "      <td>1</td>\n",
              "      <td>1</td>\n",
              "      <td>2</td>\n",
              "      <td>1</td>\n",
              "      <td>2</td>\n",
              "    </tr>\n",
              "    <tr>\n",
              "      <th>6</th>\n",
              "      <td>7000006</td>\n",
              "      <td>1</td>\n",
              "      <td>1</td>\n",
              "      <td>1</td>\n",
              "      <td>2</td>\n",
              "      <td>68</td>\n",
              "      <td>259,426814015839</td>\n",
              "      <td>1</td>\n",
              "      <td>1</td>\n",
              "      <td>1</td>\n",
              "      <td>2</td>\n",
              "      <td>1</td>\n",
              "      <td>4</td>\n",
              "      <td>4</td>\n",
              "      <td>NaN</td>\n",
              "      <td>1</td>\n",
              "      <td>2</td>\n",
              "      <td>1</td>\n",
              "      <td>1</td>\n",
              "      <td>1</td>\n",
              "      <td>3</td>\n",
              "      <td>NaN</td>\n",
              "      <td>2</td>\n",
              "      <td>2</td>\n",
              "      <td>2</td>\n",
              "      <td>2</td>\n",
              "      <td>NaN</td>\n",
              "      <td>1</td>\n",
              "      <td>2</td>\n",
              "      <td>1</td>\n",
              "      <td>2</td>\n",
              "      <td>1</td>\n",
              "      <td>1</td>\n",
              "      <td>1</td>\n",
              "      <td>1</td>\n",
              "    </tr>\n",
              "    <tr>\n",
              "      <th>7</th>\n",
              "      <td>7000007</td>\n",
              "      <td>1</td>\n",
              "      <td>1</td>\n",
              "      <td>1</td>\n",
              "      <td>2</td>\n",
              "      <td>68</td>\n",
              "      <td>340,968614879713</td>\n",
              "      <td>1</td>\n",
              "      <td>1</td>\n",
              "      <td>1</td>\n",
              "      <td>1</td>\n",
              "      <td>1</td>\n",
              "      <td>4</td>\n",
              "      <td>3</td>\n",
              "      <td>NaN</td>\n",
              "      <td>1</td>\n",
              "      <td>2</td>\n",
              "      <td>1</td>\n",
              "      <td>1</td>\n",
              "      <td>1</td>\n",
              "      <td>3</td>\n",
              "      <td>NaN</td>\n",
              "      <td>2</td>\n",
              "      <td>2</td>\n",
              "      <td>2</td>\n",
              "      <td>2</td>\n",
              "      <td>NaN</td>\n",
              "      <td>2</td>\n",
              "      <td>2</td>\n",
              "      <td>1</td>\n",
              "      <td>2</td>\n",
              "      <td>1</td>\n",
              "      <td>2</td>\n",
              "      <td>1</td>\n",
              "      <td>2</td>\n",
              "    </tr>\n",
              "    <tr>\n",
              "      <th>8</th>\n",
              "      <td>7000008</td>\n",
              "      <td>1</td>\n",
              "      <td>1</td>\n",
              "      <td>1</td>\n",
              "      <td>2</td>\n",
              "      <td>68</td>\n",
              "      <td>335,225041053736</td>\n",
              "      <td>1</td>\n",
              "      <td>1</td>\n",
              "      <td>1</td>\n",
              "      <td>2</td>\n",
              "      <td>1</td>\n",
              "      <td>4</td>\n",
              "      <td>1</td>\n",
              "      <td>NaN</td>\n",
              "      <td>1</td>\n",
              "      <td>2</td>\n",
              "      <td>1</td>\n",
              "      <td>1</td>\n",
              "      <td>1</td>\n",
              "      <td>3</td>\n",
              "      <td>NaN</td>\n",
              "      <td>2</td>\n",
              "      <td>2</td>\n",
              "      <td>2</td>\n",
              "      <td>2</td>\n",
              "      <td>NaN</td>\n",
              "      <td>1</td>\n",
              "      <td>2</td>\n",
              "      <td>1</td>\n",
              "      <td>2</td>\n",
              "      <td>1</td>\n",
              "      <td>1</td>\n",
              "      <td>1</td>\n",
              "      <td>1</td>\n",
              "    </tr>\n",
              "    <tr>\n",
              "      <th>9</th>\n",
              "      <td>7000010</td>\n",
              "      <td>1</td>\n",
              "      <td>1</td>\n",
              "      <td>1</td>\n",
              "      <td>9</td>\n",
              "      <td>81</td>\n",
              "      <td>20,5826086956517</td>\n",
              "      <td>1</td>\n",
              "      <td>1</td>\n",
              "      <td>1</td>\n",
              "      <td>1</td>\n",
              "      <td>1</td>\n",
              "      <td>4</td>\n",
              "      <td>4</td>\n",
              "      <td>NaN</td>\n",
              "      <td>1</td>\n",
              "      <td>1</td>\n",
              "      <td>1</td>\n",
              "      <td>1</td>\n",
              "      <td>1</td>\n",
              "      <td>2</td>\n",
              "      <td>NaN</td>\n",
              "      <td>2</td>\n",
              "      <td>2</td>\n",
              "      <td>2</td>\n",
              "      <td>2</td>\n",
              "      <td>NaN</td>\n",
              "      <td>1</td>\n",
              "      <td>1</td>\n",
              "      <td>1</td>\n",
              "      <td>1</td>\n",
              "      <td>1</td>\n",
              "      <td>1</td>\n",
              "      <td>1</td>\n",
              "      <td>1</td>\n",
              "    </tr>\n",
              "  </tbody>\n",
              "</table>\n",
              "</div>"
            ],
            "text/plain": [
              "   DIRECTORIO  SECUENCIA_ENCUESTA  SECUENCIA_P  ...  P5661S5  P5661S6  P5661S7\n",
              "0     7000000                   1            1  ...        2        4        3\n",
              "1     7000001                   1            1  ...        2        2        2\n",
              "2     7000002                   1            1  ...        1        2        3\n",
              "3     7000003                   1            1  ...        4        1        2\n",
              "4     7000004                   1            1  ...        1        3        2\n",
              "5     7000005                   1            1  ...        2        1        2\n",
              "6     7000006                   1            1  ...        1        1        1\n",
              "7     7000007                   1            1  ...        2        1        2\n",
              "8     7000008                   1            1  ...        1        1        1\n",
              "9     7000010                   1            1  ...        1        1        1\n",
              "\n",
              "[10 rows x 35 columns]"
            ]
          },
          "metadata": {
            "tags": []
          },
          "execution_count": 3
        }
      ]
    },
    {
      "cell_type": "code",
      "metadata": {
        "id": "YRkigPHVlmM_",
        "colab_type": "code",
        "outputId": "c232fb58-79e8-433c-fee3-6252f01c4c19",
        "colab": {
          "base_uri": "https://localhost:8080/",
          "height": 34
        }
      },
      "source": [
        "d.shape"
      ],
      "execution_count": 0,
      "outputs": [
        {
          "output_type": "execute_result",
          "data": {
            "text/plain": [
              "(88713, 35)"
            ]
          },
          "metadata": {
            "tags": []
          },
          "execution_count": 5
        }
      ]
    },
    {
      "cell_type": "code",
      "metadata": {
        "id": "oC0T4qknwPoj",
        "colab_type": "code",
        "outputId": "44579eb3-2e86-4ae4-f024-db195473496e",
        "colab": {
          "base_uri": "https://localhost:8080/",
          "height": 622
        }
      },
      "source": [
        "#se filtran el total de campos vacios por cada columna del dataset\n",
        "d.isnull().sum(axis = 0)"
      ],
      "execution_count": 0,
      "outputs": [
        {
          "output_type": "execute_result",
          "data": {
            "text/plain": [
              "DIRECTORIO                      0\n",
              "SECUENCIA_ENCUESTA              0\n",
              "SECUENCIA_P                     0\n",
              "ORDEN                           0\n",
              "REGION                          0\n",
              "DPTO                            0\n",
              "FEX_C                           0\n",
              "CANT_HOG_COMPLETOS              0\n",
              "CANT_HOGARES_VIVIENDA           0\n",
              "CLASE                           0\n",
              "Tipo_vivienda                   0\n",
              "Material_paredes                0\n",
              "Material_piso                   0\n",
              "Material_techo                  0\n",
              "P8520                       83028\n",
              "Energía_eléctrica               0\n",
              "Estrato                         0\n",
              "Acueducto                       0\n",
              "Alcantarillado                  0\n",
              "Recoleccion_basuras             0\n",
              "P8520S4A1                   26437\n",
              "P4065                       83028\n",
              "Inundaciones                    0\n",
              "Avalanchas                      0\n",
              "Hundimiento                     0\n",
              "Ventarrones                     0\n",
              "P5661                       83028\n",
              "Ruidos                          0\n",
              "Malos_olores                    0\n",
              "Presencia_basuras               0\n",
              "Contaminacion_aire              0\n",
              "Contaminacion_aguas             0\n",
              "Invasión_espacio_publico        0\n",
              "Presencia_animales              0\n",
              "Presencia_insectos              0\n",
              "dtype: int64"
            ]
          },
          "metadata": {
            "tags": []
          },
          "execution_count": 10
        }
      ]
    },
    {
      "cell_type": "markdown",
      "metadata": {
        "id": "t6DoHzEfxFNz",
        "colab_type": "text"
      },
      "source": [
        "Lo siguiente que vamos hacer es cambiar el nombre de las columnas al dataset para que se pueda identificar de mejor manera el significado de cada una de ellas."
      ]
    },
    {
      "cell_type": "code",
      "metadata": {
        "id": "pvs80IP9wT9V",
        "colab_type": "code",
        "colab": {}
      },
      "source": [
        "d.rename(columns={'P1070': 'Tipo_vivienda', 'P4005': 'Material_paredes','P4015':'Material_piso','P4567':'Material_techo','P8520S1':'Energía_eléctrica','P8520S1A1':'Estrato','P8520S5':'Acueducto','P8520S3':'Alcantarillado','P8520S4':'Recoleccion_basuras','P4065S1':'Inundaciones','P4065S2':'Avalanchas','P4065S3':'Hundimiento','P4065S4':'Ventarrones','P5661S1':'Ruidos','P5661S2':'Malos_olores','P5661S3':'Presencia_basuras','P5661S4':'Contaminacion_aire','P5661S9':'Contaminacion_aguas','P5661S5':'Invasión_espacio_publico','P5661S6':'Presencia_animales','P5661S7':'Presencia_insectos'}, inplace=True)"
      ],
      "execution_count": 0,
      "outputs": []
    },
    {
      "cell_type": "code",
      "metadata": {
        "id": "FCI7xxOl6aMn",
        "colab_type": "code",
        "outputId": "2a398c7e-d0d2-4bf1-fe72-b02027e509e1",
        "colab": {
          "base_uri": "https://localhost:8080/",
          "height": 363
        }
      },
      "source": [
        "d.head(10)"
      ],
      "execution_count": 0,
      "outputs": [
        {
          "output_type": "execute_result",
          "data": {
            "text/html": [
              "<div>\n",
              "<style scoped>\n",
              "    .dataframe tbody tr th:only-of-type {\n",
              "        vertical-align: middle;\n",
              "    }\n",
              "\n",
              "    .dataframe tbody tr th {\n",
              "        vertical-align: top;\n",
              "    }\n",
              "\n",
              "    .dataframe thead th {\n",
              "        text-align: right;\n",
              "    }\n",
              "</style>\n",
              "<table border=\"1\" class=\"dataframe\">\n",
              "  <thead>\n",
              "    <tr style=\"text-align: right;\">\n",
              "      <th></th>\n",
              "      <th>DIRECTORIO</th>\n",
              "      <th>SECUENCIA_ENCUESTA</th>\n",
              "      <th>SECUENCIA_P</th>\n",
              "      <th>ORDEN</th>\n",
              "      <th>REGION</th>\n",
              "      <th>DPTO</th>\n",
              "      <th>FEX_C</th>\n",
              "      <th>CANT_HOG_COMPLETOS</th>\n",
              "      <th>CANT_HOGARES_VIVIENDA</th>\n",
              "      <th>CLASE</th>\n",
              "      <th>Tipo_vivienda</th>\n",
              "      <th>Material_paredes</th>\n",
              "      <th>Material_piso</th>\n",
              "      <th>Material_techo</th>\n",
              "      <th>P8520</th>\n",
              "      <th>Energía_eléctrica</th>\n",
              "      <th>Estrato</th>\n",
              "      <th>Acueducto</th>\n",
              "      <th>Alcantarillado</th>\n",
              "      <th>Recoleccion_basuras</th>\n",
              "      <th>P8520S4A1</th>\n",
              "      <th>P4065</th>\n",
              "      <th>Inundaciones</th>\n",
              "      <th>Avalanchas</th>\n",
              "      <th>Hundimiento</th>\n",
              "      <th>Ventarrones</th>\n",
              "      <th>P5661</th>\n",
              "      <th>Ruidos</th>\n",
              "      <th>Malos_olores</th>\n",
              "      <th>Presencia_basuras</th>\n",
              "      <th>Contaminacion_aire</th>\n",
              "      <th>Contaminacion_aguas</th>\n",
              "      <th>Invasión_espacio_publico</th>\n",
              "      <th>Presencia_animales</th>\n",
              "      <th>Presencia_insectos</th>\n",
              "    </tr>\n",
              "  </thead>\n",
              "  <tbody>\n",
              "    <tr>\n",
              "      <th>0</th>\n",
              "      <td>7000000</td>\n",
              "      <td>1</td>\n",
              "      <td>1</td>\n",
              "      <td>1</td>\n",
              "      <td>1</td>\n",
              "      <td>8</td>\n",
              "      <td>384,328169349074</td>\n",
              "      <td>1</td>\n",
              "      <td>1</td>\n",
              "      <td>1</td>\n",
              "      <td>1</td>\n",
              "      <td>1</td>\n",
              "      <td>6</td>\n",
              "      <td>3</td>\n",
              "      <td>NaN</td>\n",
              "      <td>1</td>\n",
              "      <td>2</td>\n",
              "      <td>1</td>\n",
              "      <td>1</td>\n",
              "      <td>1</td>\n",
              "      <td>6</td>\n",
              "      <td>NaN</td>\n",
              "      <td>2</td>\n",
              "      <td>2</td>\n",
              "      <td>2</td>\n",
              "      <td>2</td>\n",
              "      <td>NaN</td>\n",
              "      <td>3</td>\n",
              "      <td>3</td>\n",
              "      <td>3</td>\n",
              "      <td>2</td>\n",
              "      <td>1</td>\n",
              "      <td>2</td>\n",
              "      <td>4</td>\n",
              "      <td>3</td>\n",
              "    </tr>\n",
              "    <tr>\n",
              "      <th>1</th>\n",
              "      <td>7000001</td>\n",
              "      <td>1</td>\n",
              "      <td>1</td>\n",
              "      <td>1</td>\n",
              "      <td>1</td>\n",
              "      <td>8</td>\n",
              "      <td>297,172456158384</td>\n",
              "      <td>1</td>\n",
              "      <td>1</td>\n",
              "      <td>1</td>\n",
              "      <td>2</td>\n",
              "      <td>1</td>\n",
              "      <td>4</td>\n",
              "      <td>1</td>\n",
              "      <td>NaN</td>\n",
              "      <td>1</td>\n",
              "      <td>2</td>\n",
              "      <td>1</td>\n",
              "      <td>1</td>\n",
              "      <td>1</td>\n",
              "      <td>6</td>\n",
              "      <td>NaN</td>\n",
              "      <td>2</td>\n",
              "      <td>2</td>\n",
              "      <td>2</td>\n",
              "      <td>2</td>\n",
              "      <td>NaN</td>\n",
              "      <td>2</td>\n",
              "      <td>2</td>\n",
              "      <td>1</td>\n",
              "      <td>2</td>\n",
              "      <td>1</td>\n",
              "      <td>2</td>\n",
              "      <td>2</td>\n",
              "      <td>2</td>\n",
              "    </tr>\n",
              "    <tr>\n",
              "      <th>2</th>\n",
              "      <td>7000002</td>\n",
              "      <td>1</td>\n",
              "      <td>1</td>\n",
              "      <td>1</td>\n",
              "      <td>1</td>\n",
              "      <td>8</td>\n",
              "      <td>274,640130499086</td>\n",
              "      <td>1</td>\n",
              "      <td>1</td>\n",
              "      <td>1</td>\n",
              "      <td>2</td>\n",
              "      <td>1</td>\n",
              "      <td>4</td>\n",
              "      <td>1</td>\n",
              "      <td>NaN</td>\n",
              "      <td>1</td>\n",
              "      <td>3</td>\n",
              "      <td>1</td>\n",
              "      <td>1</td>\n",
              "      <td>1</td>\n",
              "      <td>3</td>\n",
              "      <td>NaN</td>\n",
              "      <td>2</td>\n",
              "      <td>2</td>\n",
              "      <td>2</td>\n",
              "      <td>2</td>\n",
              "      <td>NaN</td>\n",
              "      <td>3</td>\n",
              "      <td>1</td>\n",
              "      <td>1</td>\n",
              "      <td>1</td>\n",
              "      <td>1</td>\n",
              "      <td>1</td>\n",
              "      <td>2</td>\n",
              "      <td>3</td>\n",
              "    </tr>\n",
              "    <tr>\n",
              "      <th>3</th>\n",
              "      <td>7000003</td>\n",
              "      <td>1</td>\n",
              "      <td>1</td>\n",
              "      <td>1</td>\n",
              "      <td>2</td>\n",
              "      <td>15</td>\n",
              "      <td>125,253015015194</td>\n",
              "      <td>1</td>\n",
              "      <td>1</td>\n",
              "      <td>1</td>\n",
              "      <td>1</td>\n",
              "      <td>1</td>\n",
              "      <td>4</td>\n",
              "      <td>1</td>\n",
              "      <td>NaN</td>\n",
              "      <td>1</td>\n",
              "      <td>3</td>\n",
              "      <td>1</td>\n",
              "      <td>1</td>\n",
              "      <td>1</td>\n",
              "      <td>3</td>\n",
              "      <td>NaN</td>\n",
              "      <td>2</td>\n",
              "      <td>2</td>\n",
              "      <td>2</td>\n",
              "      <td>2</td>\n",
              "      <td>NaN</td>\n",
              "      <td>3</td>\n",
              "      <td>1</td>\n",
              "      <td>4</td>\n",
              "      <td>2</td>\n",
              "      <td>1</td>\n",
              "      <td>4</td>\n",
              "      <td>1</td>\n",
              "      <td>2</td>\n",
              "    </tr>\n",
              "    <tr>\n",
              "      <th>4</th>\n",
              "      <td>7000004</td>\n",
              "      <td>1</td>\n",
              "      <td>1</td>\n",
              "      <td>1</td>\n",
              "      <td>2</td>\n",
              "      <td>15</td>\n",
              "      <td>195,420015121655</td>\n",
              "      <td>1</td>\n",
              "      <td>1</td>\n",
              "      <td>1</td>\n",
              "      <td>2</td>\n",
              "      <td>1</td>\n",
              "      <td>4</td>\n",
              "      <td>3</td>\n",
              "      <td>NaN</td>\n",
              "      <td>1</td>\n",
              "      <td>3</td>\n",
              "      <td>1</td>\n",
              "      <td>1</td>\n",
              "      <td>1</td>\n",
              "      <td>3</td>\n",
              "      <td>NaN</td>\n",
              "      <td>2</td>\n",
              "      <td>2</td>\n",
              "      <td>2</td>\n",
              "      <td>2</td>\n",
              "      <td>NaN</td>\n",
              "      <td>1</td>\n",
              "      <td>4</td>\n",
              "      <td>3</td>\n",
              "      <td>1</td>\n",
              "      <td>1</td>\n",
              "      <td>1</td>\n",
              "      <td>3</td>\n",
              "      <td>2</td>\n",
              "    </tr>\n",
              "    <tr>\n",
              "      <th>5</th>\n",
              "      <td>7000005</td>\n",
              "      <td>1</td>\n",
              "      <td>1</td>\n",
              "      <td>1</td>\n",
              "      <td>2</td>\n",
              "      <td>68</td>\n",
              "      <td>257,551129890048</td>\n",
              "      <td>1</td>\n",
              "      <td>1</td>\n",
              "      <td>1</td>\n",
              "      <td>2</td>\n",
              "      <td>1</td>\n",
              "      <td>6</td>\n",
              "      <td>4</td>\n",
              "      <td>NaN</td>\n",
              "      <td>1</td>\n",
              "      <td>2</td>\n",
              "      <td>1</td>\n",
              "      <td>1</td>\n",
              "      <td>1</td>\n",
              "      <td>3</td>\n",
              "      <td>NaN</td>\n",
              "      <td>2</td>\n",
              "      <td>2</td>\n",
              "      <td>2</td>\n",
              "      <td>2</td>\n",
              "      <td>NaN</td>\n",
              "      <td>1</td>\n",
              "      <td>3</td>\n",
              "      <td>1</td>\n",
              "      <td>1</td>\n",
              "      <td>1</td>\n",
              "      <td>2</td>\n",
              "      <td>1</td>\n",
              "      <td>2</td>\n",
              "    </tr>\n",
              "    <tr>\n",
              "      <th>6</th>\n",
              "      <td>7000006</td>\n",
              "      <td>1</td>\n",
              "      <td>1</td>\n",
              "      <td>1</td>\n",
              "      <td>2</td>\n",
              "      <td>68</td>\n",
              "      <td>259,426814015839</td>\n",
              "      <td>1</td>\n",
              "      <td>1</td>\n",
              "      <td>1</td>\n",
              "      <td>2</td>\n",
              "      <td>1</td>\n",
              "      <td>4</td>\n",
              "      <td>4</td>\n",
              "      <td>NaN</td>\n",
              "      <td>1</td>\n",
              "      <td>2</td>\n",
              "      <td>1</td>\n",
              "      <td>1</td>\n",
              "      <td>1</td>\n",
              "      <td>3</td>\n",
              "      <td>NaN</td>\n",
              "      <td>2</td>\n",
              "      <td>2</td>\n",
              "      <td>2</td>\n",
              "      <td>2</td>\n",
              "      <td>NaN</td>\n",
              "      <td>1</td>\n",
              "      <td>2</td>\n",
              "      <td>1</td>\n",
              "      <td>2</td>\n",
              "      <td>1</td>\n",
              "      <td>1</td>\n",
              "      <td>1</td>\n",
              "      <td>1</td>\n",
              "    </tr>\n",
              "    <tr>\n",
              "      <th>7</th>\n",
              "      <td>7000007</td>\n",
              "      <td>1</td>\n",
              "      <td>1</td>\n",
              "      <td>1</td>\n",
              "      <td>2</td>\n",
              "      <td>68</td>\n",
              "      <td>340,968614879713</td>\n",
              "      <td>1</td>\n",
              "      <td>1</td>\n",
              "      <td>1</td>\n",
              "      <td>1</td>\n",
              "      <td>1</td>\n",
              "      <td>4</td>\n",
              "      <td>3</td>\n",
              "      <td>NaN</td>\n",
              "      <td>1</td>\n",
              "      <td>2</td>\n",
              "      <td>1</td>\n",
              "      <td>1</td>\n",
              "      <td>1</td>\n",
              "      <td>3</td>\n",
              "      <td>NaN</td>\n",
              "      <td>2</td>\n",
              "      <td>2</td>\n",
              "      <td>2</td>\n",
              "      <td>2</td>\n",
              "      <td>NaN</td>\n",
              "      <td>2</td>\n",
              "      <td>2</td>\n",
              "      <td>1</td>\n",
              "      <td>2</td>\n",
              "      <td>1</td>\n",
              "      <td>2</td>\n",
              "      <td>1</td>\n",
              "      <td>2</td>\n",
              "    </tr>\n",
              "    <tr>\n",
              "      <th>8</th>\n",
              "      <td>7000008</td>\n",
              "      <td>1</td>\n",
              "      <td>1</td>\n",
              "      <td>1</td>\n",
              "      <td>2</td>\n",
              "      <td>68</td>\n",
              "      <td>335,225041053736</td>\n",
              "      <td>1</td>\n",
              "      <td>1</td>\n",
              "      <td>1</td>\n",
              "      <td>2</td>\n",
              "      <td>1</td>\n",
              "      <td>4</td>\n",
              "      <td>1</td>\n",
              "      <td>NaN</td>\n",
              "      <td>1</td>\n",
              "      <td>2</td>\n",
              "      <td>1</td>\n",
              "      <td>1</td>\n",
              "      <td>1</td>\n",
              "      <td>3</td>\n",
              "      <td>NaN</td>\n",
              "      <td>2</td>\n",
              "      <td>2</td>\n",
              "      <td>2</td>\n",
              "      <td>2</td>\n",
              "      <td>NaN</td>\n",
              "      <td>1</td>\n",
              "      <td>2</td>\n",
              "      <td>1</td>\n",
              "      <td>2</td>\n",
              "      <td>1</td>\n",
              "      <td>1</td>\n",
              "      <td>1</td>\n",
              "      <td>1</td>\n",
              "    </tr>\n",
              "    <tr>\n",
              "      <th>9</th>\n",
              "      <td>7000010</td>\n",
              "      <td>1</td>\n",
              "      <td>1</td>\n",
              "      <td>1</td>\n",
              "      <td>9</td>\n",
              "      <td>81</td>\n",
              "      <td>20,5826086956517</td>\n",
              "      <td>1</td>\n",
              "      <td>1</td>\n",
              "      <td>1</td>\n",
              "      <td>1</td>\n",
              "      <td>1</td>\n",
              "      <td>4</td>\n",
              "      <td>4</td>\n",
              "      <td>NaN</td>\n",
              "      <td>1</td>\n",
              "      <td>1</td>\n",
              "      <td>1</td>\n",
              "      <td>1</td>\n",
              "      <td>1</td>\n",
              "      <td>2</td>\n",
              "      <td>NaN</td>\n",
              "      <td>2</td>\n",
              "      <td>2</td>\n",
              "      <td>2</td>\n",
              "      <td>2</td>\n",
              "      <td>NaN</td>\n",
              "      <td>1</td>\n",
              "      <td>1</td>\n",
              "      <td>1</td>\n",
              "      <td>1</td>\n",
              "      <td>1</td>\n",
              "      <td>1</td>\n",
              "      <td>1</td>\n",
              "      <td>1</td>\n",
              "    </tr>\n",
              "  </tbody>\n",
              "</table>\n",
              "</div>"
            ],
            "text/plain": [
              "   DIRECTORIO  SECUENCIA_ENCUESTA  ...  Presencia_animales  Presencia_insectos\n",
              "0     7000000                   1  ...                   4                   3\n",
              "1     7000001                   1  ...                   2                   2\n",
              "2     7000002                   1  ...                   2                   3\n",
              "3     7000003                   1  ...                   1                   2\n",
              "4     7000004                   1  ...                   3                   2\n",
              "5     7000005                   1  ...                   1                   2\n",
              "6     7000006                   1  ...                   1                   1\n",
              "7     7000007                   1  ...                   1                   2\n",
              "8     7000008                   1  ...                   1                   1\n",
              "9     7000010                   1  ...                   1                   1\n",
              "\n",
              "[10 rows x 35 columns]"
            ]
          },
          "metadata": {
            "tags": []
          },
          "execution_count": 10
        }
      ]
    },
    {
      "cell_type": "markdown",
      "metadata": {
        "id": "Z_3AWX7y-WT7",
        "colab_type": "text"
      },
      "source": [
        "Vamos a utilizar la matriz de correlación para identificar que columnas podemos utilizar para nuestro analisís\n"
      ]
    },
    {
      "cell_type": "code",
      "metadata": {
        "id": "JCQWx5hq-gq8",
        "colab_type": "code",
        "outputId": "714fd36a-53ff-4656-dbc1-748ca923d515",
        "colab": {
          "base_uri": "https://localhost:8080/",
          "height": 1000
        }
      },
      "source": [
        "import seaborn as sns\n",
        "f, ax = plt.subplots(figsize=(20,20))\n",
        "sns.heatmap(d.corr(), annot=True, linewidths=.5, fmt= '.1f',ax=ax)"
      ],
      "execution_count": 0,
      "outputs": [
        {
          "output_type": "execute_result",
          "data": {
            "text/plain": [
              "<matplotlib.axes._subplots.AxesSubplot at 0x7f6b694dc128>"
            ]
          },
          "metadata": {
            "tags": []
          },
          "execution_count": 7
        },
        {
          "output_type": "display_data",
          "data": {
            "image/png": "[encoded data removed]",
            "text/plain": [
              "<Figure size 1440x1440 with 2 Axes>"
            ]
          },
          "metadata": {
            "tags": []
          }
        }
      ]
    },
    {
      "cell_type": "markdown",
      "metadata": {
        "id": "8AMsao3Vc-uV",
        "colab_type": "text"
      },
      "source": [
        "Las características de las viviendas nos permite visualizar los registros del dataset. De esta forma, se pueden seleccionar los valores indicados para realizar el ajuste de estimadores posteriormente."
      ]
    },
    {
      "cell_type": "code",
      "metadata": {
        "id": "yOPE9zrach0V",
        "colab_type": "code",
        "outputId": "0ed171e7-a270-4a71-a590-138d2e971f26",
        "colab": {
          "base_uri": "https://localhost:8080/",
          "height": 607
        }
      },
      "source": [
        "d.hist(bins=60, density=True, figsize=(16,10));"
      ],
      "execution_count": 0,
      "outputs": [
        {
          "output_type": "display_data",
          "data": {
            "image/png": "[encoded data removed]",
            "text/plain": [
              "<Figure size 1152x720 with 25 Axes>"
            ]
          },
          "metadata": {
            "tags": []
          }
        }
      ]
    },
    {
      "cell_type": "markdown",
      "metadata": {
        "id": "9DvTRUdh5xUD",
        "colab_type": "text"
      },
      "source": [
        "# **3. ANÁLISIS DE CARACTERÍSTICAS**"
      ]
    },
    {
      "cell_type": "markdown",
      "metadata": {
        "id": "cCvYBQNBV3gw",
        "colab_type": "text"
      },
      "source": [
        "**TIPO DE VIVIENDA:** En las siguientes gráficas vamos a comprobar el tipo de viviendas que se tienen en cada uno de los departamentos.\n"
      ]
    },
    {
      "cell_type": "code",
      "metadata": {
        "id": "sXr_JcGZlrY4",
        "colab_type": "code",
        "colab": {}
      },
      "source": [
        "#Conversión de valores int del Dpto a string Dpto\n",
        "d_graficas = d\n",
        "d_graficas['DPTO'].replace(\n",
        "to_replace=[5,8,11,13,15,17,18,19,20,23,25,27,41,44,47,50,52,54,63,66,68,70,73,76,81,85,86,88,91,94,95,97,99],\n",
        "value=['Antioquia','Atlántico','Bogotá D.C','Bolívar','Boyacá','Caldas','Caquetá','Cauca','Cesar','Cordoba','Cundinamarca','Choco','Huila','La Guajira','Magdalena','Meta','Nariño','Norte de Santander','Quindío','Risaralda','Santander','Sucre','Tolima','Valle del cauca','Arauca','Casanare','Putumayo','San Andrés','Amazonas','Guainía','Guaviare','Vaupés','Vichada'],\n",
        "inplace=True\n",
        ")"
      ],
      "execution_count": 0,
      "outputs": []
    },
    {
      "cell_type": "code",
      "metadata": {
        "id": "VDRGrV2QE4_H",
        "colab_type": "code",
        "outputId": "d7bf2e68-1c00-436c-d899-837c7a1bc764",
        "colab": {
          "base_uri": "https://localhost:8080/",
          "height": 1000
        }
      },
      "source": [
        "C=[\"Cantidad de Casas\",\"Cantidad de Apartamentos\",\"Cantidad de Cuartos\",\"Cantidad de viviendas indigenas\",\"Otros\"]\n",
        "n=1\n",
        "nums = [0, 1, 2, 3, 4]\n",
        "for i in nums:\n",
        "    fig=plt.figure(figsize=(20,20))\n",
        "    plt.subplot(5,1,i+1)\n",
        "    plt.title(C[i])\n",
        "    #P1070 = Tipo de Vivienda\n",
        "    d_graficas.DPTO[d_graficas.P1070==n].value_counts().plot(kind='bar')\n",
        "    n=n+1\n",
        "    print(\"\\n\")\n",
        "    plt.show()"
      ],
      "execution_count": 18,
      "outputs": [
        {
          "output_type": "stream",
          "text": [
            "\n",
            "\n"
          ],
          "name": "stdout"
        },
        {
          "output_type": "display_data",
          "data": {
            "image/png": "[encoded data removed]",
            "text/plain": [
              "<Figure size 1440x1440 with 1 Axes>"
            ]
          },
          "metadata": {
            "tags": []
          }
        },
        {
          "output_type": "stream",
          "text": [
            "\n",
            "\n"
          ],
          "name": "stdout"
        },
        {
          "output_type": "display_data",
          "data": {
            "image/png": "[encoded data removed]",
            "text/plain": [
              "<Figure size 1440x1440 with 1 Axes>"
            ]
          },
          "metadata": {
            "tags": []
          }
        },
        {
          "output_type": "stream",
          "text": [
            "\n",
            "\n"
          ],
          "name": "stdout"
        },
        {
          "output_type": "display_data",
          "data": {
            "image/png": "[encoded data removed]",
            "text/plain": [
              "<Figure size 1440x1440 with 1 Axes>"
            ]
          },
          "metadata": {
            "tags": []
          }
        },
        {
          "output_type": "stream",
          "text": [
            "\n",
            "\n"
          ],
          "name": "stdout"
        },
        {
          "output_type": "display_data",
          "data": {
            "image/png": "[encoded data removed]",
            "text/plain": [
              "<Figure size 1440x1440 with 1 Axes>"
            ]
          },
          "metadata": {
            "tags": []
          }
        },
        {
          "output_type": "stream",
          "text": [
            "\n",
            "\n"
          ],
          "name": "stdout"
        },
        {
          "output_type": "display_data",
          "data": {
            "image/png": "[encoded data removed]",
            "text/plain": [
              "<Figure size 1440x1440 with 1 Axes>"
            ]
          },
          "metadata": {
            "tags": []
          }
        }
      ]
    },
    {
      "cell_type": "markdown",
      "metadata": {
        "id": "yC5P0GFvXVbd",
        "colab_type": "text"
      },
      "source": [
        "**ESTRATO:** Las siguientes gráficas representa los estratos que presentan cada una de las diferentes viviendas que se tienen.\n",
        "\n",
        "Además, cuando se dice \"otros\" según la encuesta ECV abarca lugares como carpas, contenedores, cueva, refugio natural, puente, etc."
      ]
    },
    {
      "cell_type": "code",
      "metadata": {
        "colab_type": "code",
        "id": "skhwI7mZt8Cq",
        "colab": {}
      },
      "source": [
        "#Conversión de valores int del Estrato a string Estrato.\n",
        "d_graficas = d\n",
        "#P8520S1A1: columna que corresponde a Estrato.\n",
        "d_graficas['P8520S1A1'].replace(\n",
        "to_replace=['1','2','3','4','5','6','8','9','0'],\n",
        "value=['Bajo-Bajo', 'Bajo', 'Medio-Bajo', 'Medio', 'Medio-Alto', 'Alto', 'Planta eléctrica', 'No Saben', 'Servicio Pirata'],\n",
        "inplace=True\n",
        ")"
      ],
      "execution_count": 0,
      "outputs": []
    },
    {
      "cell_type": "code",
      "metadata": {
        "id": "xdWpnbLaQxJi",
        "colab_type": "code",
        "outputId": "4d96ffca-ef42-4d9e-f6b9-b7605e5f4912",
        "colab": {
          "base_uri": "https://localhost:8080/",
          "height": 1000
        }
      },
      "source": [
        "C=[\"Estrato de Casas\",\"Estrato de Apartamentos\",\"Estrato de Cuartos\",\"Estrato de viviendas indigenas\",\"Estrato de otros\"]\n",
        "n=1\n",
        "nums = [0, 1, 2, 3, 4]\n",
        "for i in nums:\n",
        "    fig=plt.figure(figsize=(20,20))\n",
        "    plt.subplot(5,1,i+1)\n",
        "    plt.title(C[i])\n",
        "    d_graficas.P8520S1A1[d_graficas.P1070==n].value_counts().plot(kind='bar',color='teal')\n",
        "    n=n+1\n",
        "    print(\"\\n\")\n",
        "    plt.show()"
      ],
      "execution_count": 38,
      "outputs": [
        {
          "output_type": "stream",
          "text": [
            "\n",
            "\n"
          ],
          "name": "stdout"
        },
        {
          "output_type": "display_data",
          "data": {
            "image/png": "[encoded data removed]",
            "text/plain": [
              "<Figure size 1440x1440 with 1 Axes>"
            ]
          },
          "metadata": {
            "tags": []
          }
        },
        {
          "output_type": "stream",
          "text": [
            "\n",
            "\n"
          ],
          "name": "stdout"
        },
        {
          "output_type": "display_data",
          "data": {
            "image/png": "[encoded data removed]",
            "text/plain": [
              "<Figure size 1440x1440 with 1 Axes>"
            ]
          },
          "metadata": {
            "tags": []
          }
        },
        {
          "output_type": "stream",
          "text": [
            "\n",
            "\n"
          ],
          "name": "stdout"
        },
        {
          "output_type": "display_data",
          "data": {
            "image/png": "[encoded data removed]",
            "text/plain": [
              "<Figure size 1440x1440 with 1 Axes>"
            ]
          },
          "metadata": {
            "tags": []
          }
        },
        {
          "output_type": "stream",
          "text": [
            "\n",
            "\n"
          ],
          "name": "stdout"
        },
        {
          "output_type": "display_data",
          "data": {
            "image/png": "[encoded data removed]",
            "text/plain": [
              "<Figure size 1440x1440 with 1 Axes>"
            ]
          },
          "metadata": {
            "tags": []
          }
        },
        {
          "output_type": "stream",
          "text": [
            "\n",
            "\n"
          ],
          "name": "stdout"
        },
        {
          "output_type": "display_data",
          "data": {
            "image/png": "[encoded data removed]",
            "text/plain": [
              "<Figure size 1440x1440 with 1 Axes>"
            ]
          },
          "metadata": {
            "tags": []
          }
        }
      ]
    },
    {
      "cell_type": "markdown",
      "metadata": {
        "id": "hykPrI-3aaxO",
        "colab_type": "text"
      },
      "source": [
        "**Análisis**\n",
        "\n",
        "Como podemos ver en las graficas el tipo de vivienda que más se presenta en el país según la encuesta realizada por departamentos son las casas y que son muy pocos los casos registrados donde las personas se encuentren en viviendas como cambuches, carpas o puentes.\n",
        "\n",
        "sin embargo, algo que sale a la vista con la segunda gráfica es que gran cantidad de las casas cuentan con un servicio de nivel bajo-bajo y otro de los análisis que podemos hacer y que resulta ser el más preocupante es que muchos de las viviendas indigenas cuentan con servicios de muy baja calidad o que han tenido que recurrir a opciones como piratear el servio, esto puede darse a muchos factores que sin duda muestran un abandono a este sector colombiano por parte de diferentes entidades o poco interes por parte de los entes reguladores.\n",
        "\n",
        "\n",
        "\n",
        "\n",
        "\n",
        "\n"
      ]
    },
    {
      "cell_type": "markdown",
      "metadata": {
        "colab_type": "text",
        "id": "EqjbcZHYXcJy"
      },
      "source": [
        "<HR>"
      ]
    },
    {
      "cell_type": "markdown",
      "metadata": {
        "id": "yD7rRDz5vkHe",
        "colab_type": "text"
      },
      "source": [
        "# **4. CLASIFICACIÓN**"
      ]
    },
    {
      "cell_type": "markdown",
      "metadata": {
        "id": "pjfsruoRxQEA",
        "colab_type": "text"
      },
      "source": [
        "Clasificamos los datos usando una lista de clases para identificar los servicios con los que cuenta cada estrato dependiendo de las viviendas donde se habita y las diferentes características en cuanto a calidad de vida que representan la población colombiana.\n"
      ]
    },
    {
      "cell_type": "markdown",
      "metadata": {
        "id": "w-J117oCH02x",
        "colab_type": "text"
      },
      "source": [
        "### **Procedimiento**\n"
      ]
    },
    {
      "cell_type": "markdown",
      "metadata": {
        "id": "l-Jq5-wx-1dD",
        "colab_type": "text"
      },
      "source": [
        "**1**. Usaremos dos muestras o subconjutos de datos con 20% de valores y 80% para train:\n",
        "\n",
        "- Los subdatos A (con menos columnas eliminadas del dataset original)\n",
        "- Los subdatos B (con más columnas eliminadas del dataset original).\n",
        "\n",
        "Para eliminar las columnas con precisión significativa y menor incertidumbre, verificamos previamente en la Sección de Tratamiento de datos, las características que contienen muchos campos vacios y/o su aporte al contexto del problema no es relevante."
      ]
    },
    {
      "cell_type": "code",
      "metadata": {
        "id": "v6Zf_FIbBoK0",
        "colab_type": "code",
        "colab": {}
      },
      "source": [
        "#d0 corresponde a Dataframe con subdatos o muestras A\n",
        "#d corresponde a Dataframe con subdatos o muestras B\n",
        "d0 = d\n",
        "d0 = d0.drop(['DIRECTORIO', 'SECUENCIA_ENCUESTA', 'SECUENCIA_P', 'ORDEN', 'REGION', 'FEX_C','P8520', 'P4065', 'P5661', 'P8520S4A1', 'CANT_HOG_COMPLETOS', 'CANT_HOGARES_VIVIENDA'], axis=1)"
      ],
      "execution_count": 0,
      "outputs": []
    },
    {
      "cell_type": "code",
      "metadata": {
        "id": "BY6vQnufCGuc",
        "colab_type": "code",
        "colab": {}
      },
      "source": [
        "#se eliminan los datos de la columna Estrato donde el dato sea NaN.\n",
        "d = d[d['Estrato'].notnull()]\n",
        "d0 = d0[d0['Estrato'].notnull()]"
      ],
      "execution_count": 0,
      "outputs": []
    },
    {
      "cell_type": "markdown",
      "metadata": {
        "id": "iUytQOmdHZeQ",
        "colab_type": "text"
      },
      "source": [
        "**2**. Los tipos de clasificadores y los parámetros experimentados:\n",
        "\n",
        "- RFC *(Random Forest Classifier)*\n",
        "  - n_estimators=100\n",
        "  - max_depth=50\n",
        "- SVM *(Support Vector Machine)*\n",
        "  - kernel='rbf'\n",
        "- DTC *(Decision Tree Classifier)*\n",
        "  - max_depth=10"
      ]
    },
    {
      "cell_type": "markdown",
      "metadata": {
        "id": "DlMxBQWyLzOf",
        "colab_type": "text"
      },
      "source": [
        "**3**. Lista de clases (Ground truth). Se seleccionaron las siguientes:\n",
        "\n",
        "  - Estrato\n",
        "  - Tipo de vivienda\n",
        "  - Material del techo\n"
      ]
    },
    {
      "cell_type": "markdown",
      "metadata": {
        "id": "doHAddnTMQGW",
        "colab_type": "text"
      },
      "source": [
        "# **4.1. CLASIFICACIÓN POR ESTRATO**"
      ]
    },
    {
      "cell_type": "markdown",
      "metadata": {
        "colab_type": "text",
        "id": "3xx6Bth2TLkV"
      },
      "source": [
        "Ya que el estrato de vivienda nos puede brindar un indicativo más claro de la calidad de vida que tienen los hogares colombianos,   teniendo en cuenta el significado de cada uno de los valores que presenta la columna:<br>\n",
        "1 Bajo - Bajo <br>\n",
        "2 Bajo <br>\n",
        "3 Medio - Bajo <br>\n",
        "4 Medio <br>\n",
        "5 Medio - Alto <br>\n",
        "6 Alto <br>\n",
        "8 Planta eléctrica <br>\n",
        "9 No conoce el estrato o no cuenta con recibo de pago. <br>\n",
        "0 Recibos sin estrato o el servicio es pirata <br>"
      ]
    },
    {
      "cell_type": "markdown",
      "metadata": {
        "id": "SvbS6RnIxcgR",
        "colab_type": "text"
      },
      "source": [
        "## Random Forest Classifier\n",
        "\n",
        "\n"
      ]
    },
    {
      "cell_type": "markdown",
      "metadata": {
        "id": "K7rVbQJ82VRu",
        "colab_type": "text"
      },
      "source": [
        "### Subdatos A\n"
      ]
    },
    {
      "cell_type": "code",
      "metadata": {
        "id": "BkIXUb82XnPf",
        "colab_type": "code",
        "outputId": "f152f9d7-0399-4585-b10f-51a93c625fa4",
        "colab": {
          "base_uri": "https://localhost:8080/",
          "height": 173
        }
      },
      "source": [
        "#Clasificación de los datos A\n",
        "from sklearn import metrics\n",
        "from sklearn.ensemble import RandomForestClassifier\n",
        "from sklearn.model_selection import train_test_split\n",
        "\n",
        "#Métrica de tiempo\n",
        "start_time = time.time()\n",
        "\n",
        "#Selección de datos\n",
        "datos_x = d0.drop('Estrato', axis=1).columns\n",
        "X = d0.drop('Estrato', axis=1).values\n",
        "y = d0.Estrato.values\n",
        "\n",
        "X_train, X_test, y_train, y_test = train_test_split(X, y, test_size=0.2)\n",
        "\n",
        "#Se prepara el estimador\n",
        "RF = RandomForestClassifier(n_estimators=100, max_depth=50)\n",
        "\n",
        "#Se estrena el estimador usando los datos destinados para el entrenamiento.\n",
        "rff = RF.fit(X_train,y_train)\n",
        "\n",
        "#Se obtienen los datos de predicción\n",
        "y_pred = rff.predict(X_test)\n",
        "\n",
        "print(\"----------------RESULTADOS----------------- \\n\")\n",
        "print(\"- Accuracy test: \", metrics.accuracy_score(y_test, y_pred))\n",
        "s = cross_val_score(rff, X_test, y_test, cv=KFold(10, shuffle=True), scoring=make_scorer(accuracy_score))\n",
        "print(\"- KFold Accuracy Test: %.10f (+/- %.5f)\"%(np.mean(s), np.std(s)))\n",
        "mae = mean_absolute_error(y_test, y_pred)\n",
        "print(\"- RMAE = \", np.sqrt(mae))\n",
        "print(\"- Características más importantes: \")\n",
        "print(dict(zip(datos_x, rff.feature_importances_)))\n",
        "print(\"- Tiempo de Ejecución: %s segundos ---\" % (time.time() - start_time))"
      ],
      "execution_count": 0,
      "outputs": [
        {
          "output_type": "stream",
          "text": [
            "----------------RESULTADOS----------------- \n",
            "\n",
            "- Accuracy test:  0.6080934601951102\n",
            "- KFold Accuracy Test: 0.5829203630 (+/- 0.01459)\n",
            "- RMAE =  0.8401364284179157\n",
            "- Características más importantes: \n",
            "{'DPTO': 0.267265149418904, 'CLASE': 0.02293748790111204, 'Tipo_vivienda': 0.03323368311929628, 'Material_paredes': 0.03764541915808534, 'Material_piso': 0.09367940709047161, 'Material_techo': 0.06875162601544242, 'Energía_eléctrica': 0.0, 'Acueducto': 0.01809106333184563, 'Alcantarillado': 0.032417822254623314, 'Recoleccion_basuras': 0.019090408931213373, 'Inundaciones': 0.014142173930293229, 'Avalanchas': 0.00515806040510939, 'Hundimiento': 0.008203545406698346, 'Ventarrones': 0.01689530199161146, 'Ruidos': 0.05195460667545409, 'Malos_olores': 0.04823746681764504, 'Presencia_basuras': 0.04450618393211255, 'Contaminacion_aire': 0.04384072087208032, 'Contaminacion_aguas': 0.03532573817558231, 'Invasión_espacio_publico': 0.027359899748611666, 'Presencia_animales': 0.04955157992752149, 'Presencia_insectos': 0.06171265489628617}\n",
            "- Tiempo de Ejecución: 21.706225633621216 segundos ---\n"
          ],
          "name": "stdout"
        }
      ]
    },
    {
      "cell_type": "markdown",
      "metadata": {
        "id": "pQSfIK0S2kcE",
        "colab_type": "text"
      },
      "source": [
        "### Subdatos B"
      ]
    },
    {
      "cell_type": "code",
      "metadata": {
        "id": "cqZuAyZ0-60U",
        "colab_type": "code",
        "outputId": "99728f4a-e93d-46aa-fa74-7d7d2195bf94",
        "colab": {
          "base_uri": "https://localhost:8080/",
          "height": 173
        }
      },
      "source": [
        "#Clasificación de los datos B\n",
        "from sklearn import metrics\n",
        "from sklearn.ensemble import RandomForestClassifier\n",
        "from sklearn.model_selection import train_test_split\n",
        "\n",
        "#Métrica de tiempo\n",
        "start_time = time.time()\n",
        "\n",
        "#Selección de datos\n",
        "datos_x = d.drop('Estrato', axis=1).columns\n",
        "X_rfc = d.drop(['Estrato', 'P8520', 'P4065', 'P5661', 'FEX_C', 'P8520S4A1' ], axis=1).values\n",
        "y_rfc = d.Estrato.values\n",
        "\n",
        "X_train, X_test, y_train, y_test = train_test_split(X_rfc, y_rfc, test_size=0.2)\n",
        "\n",
        "#Se prepara el estimador\n",
        "RF=RandomForestClassifier(n_estimators=100, max_depth=50)\n",
        "\n",
        "#Se estrena el estimador usando los datos destinados para el entrenamiento.\n",
        "rff = RF.fit(X_train,y_train)\n",
        "\n",
        "#Se obtienen los datos de predicción\n",
        "y_pred = rff.predict(X_test)\n",
        "\n",
        "print(\"----------------RESULTADOS----------------- \\n\")\n",
        "print(\"- Accuracy test: \", metrics.accuracy_score(y_test, y_pred))\n",
        "s = cross_val_score(rff, X_test, y_test, cv=KFold(10, shuffle=True), scoring=make_scorer(accuracy_score))\n",
        "print(\"- KFold Accuracy Test: %.10f (+/- %.5f)\"%(np.mean(s), np.std(s)))\n",
        "mae = mean_absolute_error(y_test, y_pred)\n",
        "print(\"- RMAE = \", np.sqrt(mae))\n",
        "print(\"- Características más importantes: \")\n",
        "print(dict(zip(datos_x, rff.feature_importances_)))\n",
        "print(\"- Tiempo de Ejecución: %s segundos ---\" % (time.time() - start_time))"
      ],
      "execution_count": 0,
      "outputs": [
        {
          "output_type": "stream",
          "text": [
            "----------------RESULTADOS----------------- \n",
            "\n",
            "- Accuracy test:  0.6640973142237745\n",
            "- KFold Accuracy Test: 0.6168255442 (+/- 0.00727)\n",
            "- RMAE =  0.781654643492485\n",
            "- Características más importantes: \n",
            "{'DIRECTORIO': 0.31370210887362465, 'SECUENCIA_ENCUESTA': 0.0, 'SECUENCIA_P': 0.0, 'ORDEN': 0.0, 'REGION': 0.05986722447138136, 'DPTO': 0.10924659326982111, 'FEX_C': 0.0017105250676175288, 'CANT_HOG_COMPLETOS': 0.0017210046417322387, 'CANT_HOGARES_VIVIENDA': 0.016503866402876526, 'CLASE': 0.02420787820922588, 'Tipo_vivienda': 0.02706751358178979, 'Material_paredes': 0.07126598911195957, 'Material_piso': 0.05124939210857328, 'Material_techo': 0.0, 'P8520': 0.013656091757033674, 'Energía_eléctrica': 0.023882831272700036, 'Acueducto': 0.014841080039728347, 'Alcantarillado': 0.00971505203061249, 'Recoleccion_basuras': 0.0032528497149741605, 'P8520S4A1': 0.004891205239359716, 'P4065': 0.010766423681655153, 'Inundaciones': 0.03484459386832055, 'Avalanchas': 0.032247565445787454, 'Hundimiento': 0.029455987906166443, 'Ventarrones': 0.028146843660411373, 'P5661': 0.022281785951927667, 'Ruidos': 0.019222191741347, 'Malos_olores': 0.03283657159499418, 'Presencia_basuras': 0.04341683035637984}\n",
            "- Tiempo de Ejecución: 27.80896806716919 segundos ---\n"
          ],
          "name": "stdout"
        }
      ]
    },
    {
      "cell_type": "markdown",
      "metadata": {
        "id": "O7nLJueLxbwk",
        "colab_type": "text"
      },
      "source": [
        "## Support Vector Machine\n"
      ]
    },
    {
      "cell_type": "markdown",
      "metadata": {
        "colab_type": "text",
        "id": "pHV-gPhz2yAI"
      },
      "source": [
        "### Subdatos A\n"
      ]
    },
    {
      "cell_type": "code",
      "metadata": {
        "id": "e8aexjvf1JmO",
        "colab_type": "code",
        "outputId": "1c55316c-f7ab-43dd-82b8-fc03b6705f21",
        "colab": {
          "base_uri": "https://localhost:8080/",
          "height": 102
        }
      },
      "source": [
        "#Clasificación de los datos A\n",
        "from sklearn import metrics\n",
        "from sklearn.svm import SVC\n",
        "from sklearn.model_selection import train_test_split\n",
        "\n",
        "#Métrica de tiempo\n",
        "start_time = time.time()\n",
        "\n",
        "#Selección de datos\n",
        "X = d0.drop('Estrato', axis=1).values\n",
        "y = d0.Estrato.values\n",
        "\n",
        "X_train, X_test, y_train, y_test = train_test_split(X, y, test_size=0.2)\n",
        "\n",
        "#Se prepara el estimador\n",
        "SVM=SVC(kernel='rbf')\n",
        "\n",
        "#Se estrena el estimador usando los datos destinados para el entrenamiento.\n",
        "SVM.fit(X_train,y_train)\n",
        "\n",
        "#Se obtienen los datos de predicción\n",
        "y_pred=SVM.predict(X_test)\n",
        "\n",
        "\n",
        "print(\"----------------RESULTADOS----------------- \\n\")\n",
        "print(\"- Accuracy test: \", metrics.accuracy_score(y_test, y_pred))\n",
        "mae = mean_absolute_error(y_test, y_pred)\n",
        "print(\"- RMAE = \", np.sqrt(mae))\n",
        "print(\"- Tiempo de Ejecución: %s segundos ---\" % (time.time() - start_time))"
      ],
      "execution_count": 0,
      "outputs": [
        {
          "output_type": "stream",
          "text": [
            "----------------RESULTADOS----------------- \n",
            "\n",
            "- Accuracy test:  0.5720823798627003\n",
            "- RMAE =  0.8824025320634995\n",
            "- Tiempo de Ejecución: 310.1445710659027 segundos ---\n"
          ],
          "name": "stdout"
        }
      ]
    },
    {
      "cell_type": "markdown",
      "metadata": {
        "colab_type": "text",
        "id": "pwgjOuhs2y4d"
      },
      "source": [
        "### Subdatos B\n"
      ]
    },
    {
      "cell_type": "code",
      "metadata": {
        "id": "q9_SvXYYyUAu",
        "colab_type": "code",
        "outputId": "2a68b044-55e8-43aa-b1cb-6f0caeef3eb8",
        "colab": {
          "base_uri": "https://localhost:8080/",
          "height": 102
        }
      },
      "source": [
        "#Clasificación de los datos B\n",
        "from sklearn import metrics\n",
        "from sklearn.svm import SVC\n",
        "from sklearn.model_selection import train_test_split\n",
        "\n",
        "#Métrica de tiempo\n",
        "start_time = time.time()\n",
        "\n",
        "#Selección de datos\n",
        "X_svm = d.drop(['Estrato', 'P8520', 'P4065', 'P5661', 'FEX_C', 'P8520S4A1' ], axis=1).values\n",
        "y_svm = d.Estrato.values\n",
        "\n",
        "X_train, X_test, y_train, y_test = train_test_split(X_svm, y_svm, test_size=0.2)\n",
        "\n",
        "#Se prepara el estimador\n",
        "SVM=SVC(kernel='rbf')\n",
        "\n",
        "#Se estrena el estimador usando los datos destinados para el entrenamiento.\n",
        "SVM.fit(X_train,y_train)\n",
        "\n",
        "#Se obtienen los datos de predicción\n",
        "y_pred=SVM.predict(X_test)\n",
        "\n",
        "print(\"----------------RESULTADOS----------------- \\n\")\n",
        "print(\"- Accuracy test: \", metrics.accuracy_score(y_test, y_pred))\n",
        "mae = mean_absolute_error(y_test, y_pred)\n",
        "print(\"- RMAE = \", np.sqrt(mae))\n",
        "print(\"- Tiempo de Ejecución: %s segundos ---\" % (time.time() - start_time))"
      ],
      "execution_count": 0,
      "outputs": [
        {
          "output_type": "stream",
          "text": [
            "----------------RESULTADOS----------------- \n",
            "\n",
            "- Accuracy test:  0.5046970974346622\n",
            "- RMAE =  0.9981616246526925\n",
            "- Tiempo de Ejecución: 344.6414351463318 segundos ---\n"
          ],
          "name": "stdout"
        }
      ]
    },
    {
      "cell_type": "markdown",
      "metadata": {
        "id": "cxkNP_ko353Z",
        "colab_type": "text"
      },
      "source": [
        "## Decision Tree Classifier\n",
        "\n",
        "\n",
        "\n"
      ]
    },
    {
      "cell_type": "markdown",
      "metadata": {
        "id": "RZKtvULk34jN",
        "colab_type": "text"
      },
      "source": [
        "### Subdatos A"
      ]
    },
    {
      "cell_type": "code",
      "metadata": {
        "id": "RBTwhkEF33bE",
        "colab_type": "code",
        "outputId": "44e10ded-1122-456b-d03c-1e026ea0470d",
        "colab": {
          "base_uri": "https://localhost:8080/",
          "height": 173
        }
      },
      "source": [
        "#Clasificación de los datos A\n",
        "from sklearn import metrics\n",
        "from sklearn.tree import DecisionTreeClassifier\n",
        "from sklearn.model_selection import train_test_split\n",
        "\n",
        "#Métrica de tiempo\n",
        "start_time = time.time()\n",
        "\n",
        "#Selección de datos\n",
        "datos_x = d0.drop('Estrato', axis=1).columns\n",
        "X = d0.drop('Estrato', axis=1).values\n",
        "y = d0.Estrato.values\n",
        "\n",
        "X_train, X_test, y_train, y_test = train_test_split(X, y, test_size=0.2)\n",
        "\n",
        "#Se prepara el estimador\n",
        "DT = DecisionTreeClassifier(max_depth=10)\n",
        "\n",
        "#Se estrena el estimador usando los datos destinados para el entrenamiento.\n",
        "dtf = DT.fit(X_train,y_train)\n",
        "\n",
        "#Se obtienen los datos de predicción\n",
        "y_pred = dtf.predict(X_test)\n",
        "\n",
        "print(\"----------------RESULTADOS----------------- \\n\")\n",
        "print(\"- Accuracy test: \", metrics.accuracy_score(y_test, y_pred))\n",
        "s = cross_val_score(dtf, X_test, y_test, cv=KFold(10, shuffle=True), scoring=make_scorer(accuracy_score))\n",
        "print(\"- KFold Accuracy Test: %.10f (+/- %.5f)\"%(np.mean(s), np.std(s)))\n",
        "mae = mean_absolute_error(y_test, y_pred)\n",
        "print(\"- RMAE = \", np.sqrt(mae))\n",
        "print(\"- Características más importantes: \")\n",
        "print(dict(zip(datos_x, dtf.feature_importances_)))\n",
        "print(\"- Tiempo de Ejecución: %s segundos ---\" % (time.time() - start_time))"
      ],
      "execution_count": 0,
      "outputs": [
        {
          "output_type": "stream",
          "text": [
            "----------------RESULTADOS----------------- \n",
            "\n",
            "- Accuracy test:  0.6073708298205468\n",
            "- KFold Accuracy Test: 0.5930385963 (+/- 0.01239)\n",
            "- RMAE =  0.8424984779896698\n",
            "- Características más importantes: \n",
            "{'DPTO': 0.25516630391634604, 'CLASE': 0.036139422009724316, 'Tipo_vivienda': 0.013709345335019097, 'Material_paredes': 0.03213634198207909, 'Material_piso': 0.390678580583912, 'Material_techo': 0.06959602910268844, 'Energía_eléctrica': 0.0, 'Acueducto': 0.013847363905729718, 'Alcantarillado': 0.07844772227513926, 'Recoleccion_basuras': 0.01728630976713213, 'Inundaciones': 0.004215564796179622, 'Avalanchas': 0.0005525264004286826, 'Hundimiento': 0.0005679859524293875, 'Ventarrones': 0.0013813248907645539, 'Ruidos': 0.006555192608013032, 'Malos_olores': 0.007825929498859348, 'Presencia_basuras': 0.00713709016181107, 'Contaminacion_aire': 0.007751997702106969, 'Contaminacion_aguas': 0.007971141842922322, 'Invasión_espacio_publico': 0.00862932238335642, 'Presencia_animales': 0.005704048524892827, 'Presencia_insectos': 0.03470045636046578}\n",
            "- Tiempo de Ejecución: 0.7342727184295654 segundos ---\n"
          ],
          "name": "stdout"
        }
      ]
    },
    {
      "cell_type": "markdown",
      "metadata": {
        "id": "ifv38KKK4TS6",
        "colab_type": "text"
      },
      "source": [
        "### Subdatos B"
      ]
    },
    {
      "cell_type": "code",
      "metadata": {
        "id": "S6AaPHiT4Sl8",
        "colab_type": "code",
        "outputId": "1c727b20-4e3b-495a-d057-1127bdeb8194",
        "colab": {
          "base_uri": "https://localhost:8080/",
          "height": 173
        }
      },
      "source": [
        "#Clasificación de los datos B\n",
        "from sklearn import metrics\n",
        "from sklearn.tree import DecisionTreeClassifier\n",
        "from sklearn.model_selection import train_test_split\n",
        "\n",
        "#Métrica de tiempo\n",
        "start_time = time.time()\n",
        "\n",
        "#Selección de datos\n",
        "datos_x = d.drop('Estrato', axis=1).columns\n",
        "X = d.drop(['Estrato', 'P8520', 'P4065', 'P5661', 'FEX_C', 'P8520S4A1' ], axis=1).values\n",
        "y = d.Estrato.values\n",
        "\n",
        "X_train, X_test, y_train, y_test = train_test_split(X, y, test_size=0.2)\n",
        "\n",
        "#Se prepara el estimador\n",
        "DT = DecisionTreeClassifier(max_depth=10)\n",
        "\n",
        "#Se estrena el estimador usando los datos destinados para el entrenamiento.\n",
        "dtf = DT.fit(X_train,y_train)\n",
        "\n",
        "#Se obtienen los datos de predicción\n",
        "y_pred = dtf.predict(X_test)\n",
        "\n",
        "print(\"----------------RESULTADOS----------------- \\n\")\n",
        "print(\"- Accuracy test: \", metrics.accuracy_score(y_test, y_pred))\n",
        "s = cross_val_score(dtf, X_test, y_test, cv=KFold(10, shuffle=True), scoring=make_scorer(accuracy_score))\n",
        "print(\"- KFold Accuracy Test: %.10f (+/- %.5f)\"%(np.mean(s), np.std(s)))\n",
        "mae = mean_absolute_error(y_test, y_pred)\n",
        "print(\"- RMAE = \", np.sqrt(mae))\n",
        "print(\"- Características más importantes: \")\n",
        "print(dict(zip(datos_x, dtf.feature_importances_)))\n",
        "print(\"- Tiempo de Ejecución: %s segundos ---\" % (time.time() - start_time))"
      ],
      "execution_count": 0,
      "outputs": [
        {
          "output_type": "stream",
          "text": [
            "----------------RESULTADOS----------------- \n",
            "\n",
            "- Accuracy test:  0.6130314344212935\n",
            "- KFold Accuracy Test: 0.5828602671 (+/- 0.01294)\n",
            "- RMAE =  0.8447470005163488\n",
            "- Características más importantes: \n",
            "{'DIRECTORIO': 0.10189331824456396, 'SECUENCIA_ENCUESTA': 0.0, 'SECUENCIA_P': 0.0, 'ORDEN': 0.0, 'REGION': 0.14162959673304157, 'DPTO': 0.1506771352181888, 'FEX_C': 0.00027181761458264464, 'CANT_HOG_COMPLETOS': 0.00014076237189493299, 'CANT_HOGARES_VIVIENDA': 0.021973198503115653, 'CLASE': 0.011669685950742423, 'Tipo_vivienda': 0.025501486370239926, 'Material_paredes': 0.33299122891812477, 'Material_piso': 0.06141173139554257, 'Material_techo': 0.0, 'P8520': 0.013839789887501223, 'Energía_eléctrica': 0.0636058290341271, 'Acueducto': 0.029416670746585164, 'Alcantarillado': 0.003658162173651183, 'Recoleccion_basuras': 0.0, 'P8520S4A1': 0.0004046178249992466, 'P4065': 0.001213381611972569, 'Inundaciones': 0.004998283014669612, 'Avalanchas': 0.003101126470191906, 'Hundimiento': 0.0028496644280984426, 'Ventarrones': 0.0033271669416099193, 'P5661': 0.004086198105062924, 'Ruidos': 0.0024699246515299655, 'Malos_olores': 0.0029559726447109876, 'Presencia_basuras': 0.015913251145252532}\n",
            "- Tiempo de Ejecución: 1.1035921573638916 segundos ---\n"
          ],
          "name": "stdout"
        }
      ]
    },
    {
      "cell_type": "markdown",
      "metadata": {
        "id": "fTK97vpf6Ly0",
        "colab_type": "text"
      },
      "source": [
        "<HR>"
      ]
    },
    {
      "cell_type": "markdown",
      "metadata": {
        "id": "SmKamj8a4xsX",
        "colab_type": "text"
      },
      "source": [
        "**OBSERVACIONES SOBRE RESULTADOS DE CLASIFICADORES**\n",
        "* Teniendo en cuenta los clasificadores RFC y DTC se obtuvo que al tener menos columnas en el dataset proporciona mejores reultados, en nuestro caso dichas columnas eliminadas no tenian importancia para nuestro analisis \n",
        "* Entre los tres clasificadores, el clasificador con mayor accuracy es el RF con los Subdatos B para train y para test. \n",
        "* El clasificador que tarda más tiempo es el SVM tanto para los subdatos A como los subtados B\n",
        "* El clasificador con menor accuracy es el SVM con kernel rbf\n",
        "\n"
      ]
    },
    {
      "cell_type": "markdown",
      "metadata": {
        "colab_type": "text",
        "id": "5o63qI7HW-OR"
      },
      "source": [
        "# **4.2. CLASIFICACIÓN POR TIPO DE VIVIENDA**\n"
      ]
    },
    {
      "cell_type": "markdown",
      "metadata": {
        "id": "cKlEN21EV7xY",
        "colab_type": "text"
      },
      "source": [
        "El tipo de vivienda al igual que el estrato nos proporciona informacion pertinente al realizar un analisis en la calidad de vida de los colombianos, por ello los valores de esta columna que vamos a trabajar son:<br>\n",
        "1 Casa<br>\n",
        "2 Apartamento<br>\n",
        "3 Cuarto(s)<br>\n",
        "4 Vivienda tradicional indigena<br>\n",
        "5 Otro tipo de vivienda<br>\n",
        "\n",
        "Como este ultimo valor damos a entender carpa, contenedor, vagón, embarcación, cueva, refugio natural, puente, etc.\n"
      ]
    },
    {
      "cell_type": "markdown",
      "metadata": {
        "colab_type": "text",
        "id": "ujYNcbvnYP0J"
      },
      "source": [
        "## Random Forest Classifier\n",
        "\n",
        "\n"
      ]
    },
    {
      "cell_type": "markdown",
      "metadata": {
        "colab_type": "text",
        "id": "rqb3JHsmXcJi"
      },
      "source": [
        "### Subdatos A\n"
      ]
    },
    {
      "cell_type": "code",
      "metadata": {
        "colab_type": "code",
        "outputId": "b4dc9f18-a133-43ed-95a8-b0d0a8727202",
        "id": "rZu-59xkXcJj",
        "colab": {
          "base_uri": "https://localhost:8080/",
          "height": 173
        }
      },
      "source": [
        "#Clasificación de los datos A\n",
        "from sklearn import metrics\n",
        "from sklearn.ensemble import RandomForestClassifier\n",
        "from sklearn.model_selection import train_test_split\n",
        "\n",
        "#Métrica de tiempo\n",
        "start_time = time.time()\n",
        "\n",
        "#Selección de datos\n",
        "datos_x = d0.drop('Tipo_vivienda', axis=1).columns\n",
        "X = d0.drop('Tipo_vivienda', axis=1).values\n",
        "y = d0.Tipo_vivienda.values\n",
        "\n",
        "X_train, X_test, y_train, y_test = train_test_split(X, y, test_size=0.2)\n",
        "\n",
        "#Se prepara el estimador\n",
        "RF = RandomForestClassifier(n_estimators=100, max_depth=50)\n",
        "\n",
        "#Se estrena el estimador usando los datos destinados para el entrenamiento.\n",
        "rff = RF.fit(X_train,y_train)\n",
        "\n",
        "#Se obtienen los datos de predicción\n",
        "y_pred = rff.predict(X_test)\n",
        "\n",
        "print(\"----------------RESULTADOS----------------- \\n\")\n",
        "print(\"- Accuracy test: \", metrics.accuracy_score(y_test, y_pred))\n",
        "s = cross_val_score(rff, X_test, y_test, cv=KFold(10, shuffle=True), scoring=make_scorer(accuracy_score))\n",
        "print(\"- KFold Accuracy Test: %.10f (+/- %.5f)\"%(np.mean(s), np.std(s)))\n",
        "mae = mean_absolute_error(y_test, y_pred)\n",
        "print(\"- RMAE = \", np.sqrt(mae))\n",
        "print(\"- Características más importantes: \")\n",
        "print(dict(zip(datos_x, rff.feature_importances_)))\n",
        "print(\"- Tiempo de Ejecución: %s segundos ---\" % (time.time() - start_time))"
      ],
      "execution_count": 0,
      "outputs": [
        {
          "output_type": "stream",
          "text": [
            "----------------RESULTADOS----------------- \n",
            "\n",
            "- Accuracy test:  0.8067565940021679\n",
            "- KFold Accuracy Test: 0.7986266801 (+/- 0.00943)\n",
            "- RMAE =  0.47081510956778594\n",
            "- Características más importantes: \n",
            "{'DPTO': 0.18702186706299936, 'CLASE': 0.049139341103001055, 'Material_paredes': 0.023141521793653336, 'Material_piso': 0.05420049027991265, 'Material_techo': 0.16705482860577497, 'Energía_eléctrica': 0.0, 'Estrato': 0.07440509082903078, 'Acueducto': 0.017697458142076503, 'Alcantarillado': 0.0445798132797478, 'Recoleccion_basuras': 0.030951068582302, 'Inundaciones': 0.011752845256426501, 'Avalanchas': 0.0022012796062968157, 'Hundimiento': 0.004720169099723542, 'Ventarrones': 0.00899203855925309, 'Ruidos': 0.042634471487512086, 'Malos_olores': 0.04439120611839697, 'Presencia_basuras': 0.040213543850697545, 'Contaminacion_aire': 0.039101106896808124, 'Contaminacion_aguas': 0.030968318740358804, 'Invasión_espacio_publico': 0.027423614841275947, 'Presencia_animales': 0.04527054954267826, 'Presencia_insectos': 0.05413937632207383}\n",
            "- Tiempo de Ejecución: 18.41281294822693 segundos ---\n"
          ],
          "name": "stdout"
        }
      ]
    },
    {
      "cell_type": "markdown",
      "metadata": {
        "colab_type": "text",
        "id": "GvZ5AT6LXcJm"
      },
      "source": [
        "### Subdatos B"
      ]
    },
    {
      "cell_type": "code",
      "metadata": {
        "colab_type": "code",
        "outputId": "06dbcaf5-7b64-4ad5-b22c-1cfd503243ff",
        "id": "IJUaLiHuXcJn",
        "colab": {
          "base_uri": "https://localhost:8080/",
          "height": 173
        }
      },
      "source": [
        "#Clasificación de los datos B\n",
        "from sklearn import metrics\n",
        "from sklearn.ensemble import RandomForestClassifier\n",
        "from sklearn.model_selection import train_test_split\n",
        "\n",
        "#Métrica de tiempo\n",
        "start_time = time.time()\n",
        "\n",
        "#Selección de datos\n",
        "datos_x = d.drop('Tipo_vivienda', axis=1).columns\n",
        "X_rfc = d.drop(['Tipo_vivienda', 'P8520', 'P4065', 'P5661', 'FEX_C', 'P8520S4A1' ], axis=1).values\n",
        "y_rfc = d.Tipo_vivienda.values\n",
        "\n",
        "X_train, X_test, y_train, y_test = train_test_split(X_rfc, y_rfc, test_size=0.2)\n",
        "\n",
        "#Se prepara el estimador\n",
        "RF=RandomForestClassifier(n_estimators=100, max_depth=50)\n",
        "\n",
        "#Se estrena el estimador usando los datos destinados para el entrenamiento.\n",
        "rff = RF.fit(X_train,y_train)\n",
        "\n",
        "#Se obtienen los datos de predicción\n",
        "y_pred = rff.predict(X_test)\n",
        "\n",
        "print(\"----------------RESULTADOS----------------- \\n\")\n",
        "print(\"- Accuracy test: \", metrics.accuracy_score(y_test, y_pred))\n",
        "s = cross_val_score(rff, X_test, y_test, cv=KFold(10, shuffle=True), scoring=make_scorer(accuracy_score))\n",
        "print(\"- KFold Accuracy Test: %.10f (+/- %.5f)\"%(np.mean(s), np.std(s)))\n",
        "mae = mean_absolute_error(y_test, y_pred)\n",
        "print(\"- RMAE = \", np.sqrt(mae))\n",
        "print(\"- Características más importantes: \")\n",
        "print(dict(zip(datos_x, rff.feature_importances_)))\n",
        "print(\"- Tiempo de Ejecución: %s segundos ---\" % (time.time() - start_time))"
      ],
      "execution_count": 0,
      "outputs": [
        {
          "output_type": "stream",
          "text": [
            "----------------RESULTADOS----------------- \n",
            "\n",
            "- Accuracy test:  0.8121161026135132\n",
            "- KFold Accuracy Test: 0.8027813481 (+/- 0.00545)\n",
            "- RMAE =  0.4639217748975961\n",
            "- Características más importantes: \n",
            "{'DIRECTORIO': 0.264200417087512, 'SECUENCIA_ENCUESTA': 0.0, 'SECUENCIA_P': 0.0, 'ORDEN': 0.0, 'REGION': 0.036363090508172276, 'DPTO': 0.08476593738741983, 'FEX_C': 0.001799631786179781, 'CANT_HOG_COMPLETOS': 0.001758582128984326, 'CANT_HOGARES_VIVIENDA': 0.042722190832044, 'CLASE': 0.017979392751576104, 'Material_paredes': 0.04465450396367081, 'Material_piso': 0.1376643814784608, 'Material_techo': 0.0, 'P8520': 0.05186071657374389, 'Energía_eléctrica': 0.012369372303640118, 'Estrato': 0.03665403654209973, 'Acueducto': 0.023935427469217098, 'Alcantarillado': 0.008791493301518403, 'Recoleccion_basuras': 0.001374928826180808, 'P8520S4A1': 0.0032956652081643206, 'P4065': 0.006268153067883384, 'Inundaciones': 0.02935574496507912, 'Avalanchas': 0.03053825600300732, 'Hundimiento': 0.028360972583829844, 'Ventarrones': 0.025890514244005614, 'P5661': 0.020629929388174803, 'Ruidos': 0.018917140059214844, 'Malos_olores': 0.03173514381167866, 'Presencia_basuras': 0.03811437772854215}\n",
            "- Tiempo de Ejecución: 23.54857635498047 segundos ---\n"
          ],
          "name": "stdout"
        }
      ]
    },
    {
      "cell_type": "markdown",
      "metadata": {
        "colab_type": "text",
        "id": "uxRwfBepXcJp"
      },
      "source": [
        "## Support Vector Machine\n"
      ]
    },
    {
      "cell_type": "markdown",
      "metadata": {
        "colab_type": "text",
        "id": "Y3l-RYpBXcJp"
      },
      "source": [
        "### Subdatos A\n"
      ]
    },
    {
      "cell_type": "code",
      "metadata": {
        "colab_type": "code",
        "id": "ARIMEZC_XcJp",
        "outputId": "ef6ea44a-d840-4314-f268-7dcc91ea1430",
        "colab": {
          "base_uri": "https://localhost:8080/",
          "height": 102
        }
      },
      "source": [
        "#Clasificación de los datos A\n",
        "from sklearn import metrics\n",
        "from sklearn.svm import SVC\n",
        "from sklearn.model_selection import train_test_split\n",
        "\n",
        "#Métrica de tiempo\n",
        "start_time = time.time()\n",
        "\n",
        "#Selección de datos\n",
        "X = d0.drop('Tipo_vivienda', axis=1).values\n",
        "y = d0.Tipo_vivienda.values\n",
        "\n",
        "X_train, X_test, y_train, y_test = train_test_split(X, y, test_size=0.2)\n",
        "\n",
        "#Se prepara el estimador\n",
        "SVM=SVC(kernel='rbf')\n",
        "\n",
        "#Se estrena el estimador usando los datos destinados para el entrenamiento.\n",
        "SVM.fit(X_train,y_train)\n",
        "\n",
        "#Se obtienen los datos de predicción\n",
        "y_pred=SVM.predict(X_test)\n",
        "\n",
        "\n",
        "print(\"----------------RESULTADOS----------------- \\n\")\n",
        "print(\"- Accuracy test: \", metrics.accuracy_score(y_test, y_pred))\n",
        "mae = mean_absolute_error(y_test, y_pred)\n",
        "print(\"- RMAE = \", np.sqrt(mae))\n",
        "print(\"- Tiempo de Ejecución: %s segundos ---\" % (time.time() - start_time))"
      ],
      "execution_count": 0,
      "outputs": [
        {
          "output_type": "stream",
          "text": [
            "----------------RESULTADOS----------------- \n",
            "\n",
            "- Accuracy test:  0.8074792243767313\n",
            "- RMAE =  0.47266608100841606\n",
            "- Tiempo de Ejecución: 171.55188584327698 segundos ---\n"
          ],
          "name": "stdout"
        }
      ]
    },
    {
      "cell_type": "markdown",
      "metadata": {
        "colab_type": "text",
        "id": "6YArM8yCXcJr"
      },
      "source": [
        "### Subdatos B\n"
      ]
    },
    {
      "cell_type": "code",
      "metadata": {
        "colab_type": "code",
        "outputId": "f31f1776-098a-4779-f20d-0e8ec91fffdb",
        "id": "xOEb--sxXcJs",
        "colab": {
          "base_uri": "https://localhost:8080/",
          "height": 102
        }
      },
      "source": [
        "#Clasificación de los datos B\n",
        "from sklearn import metrics\n",
        "from sklearn.svm import SVC\n",
        "from sklearn.model_selection import train_test_split\n",
        "\n",
        "#Métrica de tiempo\n",
        "start_time = time.time()\n",
        "\n",
        "#Selección de datos\n",
        "X_svm = d.drop(['Tipo_vivienda', 'P8520', 'P4065', 'P5661', 'FEX_C', 'P8520S4A1' ], axis=1).values\n",
        "y_svm = d.Tipo_vivienda.values\n",
        "\n",
        "X_train, X_test, y_train, y_test = train_test_split(X_svm, y_svm, test_size=0.2)\n",
        "\n",
        "#Se prepara el estimador\n",
        "SVM=SVC(kernel='rbf')\n",
        "\n",
        "#Se estrena el estimador usando los datos destinados para el entrenamiento.\n",
        "SVM.fit(X_train,y_train)\n",
        "\n",
        "#Se obtienen los datos de predicción\n",
        "y_pred=SVM.predict(X_test)\n",
        "\n",
        "print(\"----------------RESULTADOS----------------- \\n\")\n",
        "print(\"- Accuracy test: \", metrics.accuracy_score(y_test, y_pred))\n",
        "mae = mean_absolute_error(y_test, y_pred)\n",
        "print(\"- RMAE = \", np.sqrt(mae))\n",
        "print(\"- Tiempo de Ejecución: %s segundos ---\" % (time.time() - start_time))"
      ],
      "execution_count": 0,
      "outputs": [
        {
          "output_type": "stream",
          "text": [
            "----------------RESULTADOS----------------- \n",
            "\n",
            "- Accuracy test:  0.7532819462844755\n",
            "- RMAE =  0.5284282548945296\n",
            "- Tiempo de Ejecución: 185.23534488677979 segundos ---\n"
          ],
          "name": "stdout"
        }
      ]
    },
    {
      "cell_type": "markdown",
      "metadata": {
        "colab_type": "text",
        "id": "JcPdZ0K5XcJt"
      },
      "source": [
        "## Decision Tree Classifier\n",
        "\n",
        "\n",
        "\n"
      ]
    },
    {
      "cell_type": "markdown",
      "metadata": {
        "colab_type": "text",
        "id": "_QPA9rEbXcJu"
      },
      "source": [
        "### Subdatos A"
      ]
    },
    {
      "cell_type": "code",
      "metadata": {
        "colab_type": "code",
        "outputId": "1000bc5b-de5d-43d9-8dd7-b4598e874096",
        "id": "zcfVIu0WXcJu",
        "colab": {
          "base_uri": "https://localhost:8080/",
          "height": 173
        }
      },
      "source": [
        "#Clasificación de los datos A\n",
        "from sklearn import metrics\n",
        "from sklearn.tree import DecisionTreeClassifier\n",
        "from sklearn.model_selection import train_test_split\n",
        "\n",
        "#Métrica de tiempo\n",
        "start_time = time.time()\n",
        "\n",
        "#Selección de datos\n",
        "datos_x = d0.drop('Tipo_vivienda', axis=1).columns\n",
        "X = d0.drop('Tipo_vivienda', axis=1).values\n",
        "y = d0.Tipo_vivienda.values\n",
        "\n",
        "X_train, X_test, y_train, y_test = train_test_split(X, y, test_size=0.2)\n",
        "\n",
        "#Se prepara el estimador\n",
        "DT = DecisionTreeClassifier(max_depth=10)\n",
        "\n",
        "#Se estrena el estimador usando los datos destinados para el entrenamiento.\n",
        "dtf = DT.fit(X_train,y_train)\n",
        "\n",
        "#Se obtienen los datos de predicción\n",
        "y_pred = dtf.predict(X_test)\n",
        "\n",
        "print(\"----------------RESULTADOS----------------- \\n\")\n",
        "print(\"- Accuracy test: \", metrics.accuracy_score(y_test, y_pred))\n",
        "s = cross_val_score(dtf, X_test, y_test, cv=KFold(10, shuffle=True), scoring=make_scorer(accuracy_score))\n",
        "print(\"- KFold Accuracy Test: %.10f (+/- %.5f)\"%(np.mean(s), np.std(s)))\n",
        "mae = mean_absolute_error(y_test, y_pred)\n",
        "print(\"- RMAE = \", np.sqrt(mae))\n",
        "print(\"- Características más importantes: \")\n",
        "print(dict(zip(datos_x, dtf.feature_importances_)))\n",
        "print(\"- Tiempo de Ejecución: %s segundos ---\" % (time.time() - start_time))"
      ],
      "execution_count": 0,
      "outputs": [
        {
          "output_type": "stream",
          "text": [
            "----------------RESULTADOS----------------- \n",
            "\n",
            "- Accuracy test:  0.814825966518126\n",
            "- KFold Accuracy Test: 0.8030242342 (+/- 0.00662)\n",
            "- RMAE =  0.46320729921650927\n",
            "- Características más importantes: \n",
            "{'DPTO': 0.09266363066494855, 'CLASE': 0.1605052869322052, 'Material_paredes': 0.007222888303777897, 'Material_piso': 0.04132318268905077, 'Material_techo': 0.5746484258669301, 'Energía_eléctrica': 0.0, 'Estrato': 0.04150148368581618, 'Acueducto': 0.0017059091641987625, 'Alcantarillado': 0.01379833001356242, 'Recoleccion_basuras': 0.006006820967688903, 'Inundaciones': 0.00584329705743967, 'Avalanchas': 0.0007258516955833812, 'Hundimiento': 0.0010854789400887171, 'Ventarrones': 0.0019566913887488564, 'Ruidos': 0.008356163247769886, 'Malos_olores': 0.004231256520102942, 'Presencia_basuras': 0.006309702130844626, 'Contaminacion_aire': 0.003700605228080125, 'Contaminacion_aguas': 0.00455125684764433, 'Invasión_espacio_publico': 0.005073154142236868, 'Presencia_animales': 0.00762204469394027, 'Presencia_insectos': 0.011168539819341648}\n",
            "- Tiempo de Ejecución: 0.7750043869018555 segundos ---\n"
          ],
          "name": "stdout"
        }
      ]
    },
    {
      "cell_type": "markdown",
      "metadata": {
        "colab_type": "text",
        "id": "0sz30FYKXcJw"
      },
      "source": [
        "### Subdatos B"
      ]
    },
    {
      "cell_type": "code",
      "metadata": {
        "colab_type": "code",
        "id": "Nf2BJKdHXcJw",
        "outputId": "572bc238-2809-4f25-a9cd-e8c8e143f65c",
        "colab": {
          "base_uri": "https://localhost:8080/",
          "height": 173
        }
      },
      "source": [
        "#Clasificación de los datos B\n",
        "from sklearn import metrics\n",
        "from sklearn.tree import DecisionTreeClassifier\n",
        "from sklearn.model_selection import train_test_split\n",
        "\n",
        "#Métrica de tiempo\n",
        "start_time = time.time()\n",
        "\n",
        "#Selección de datos\n",
        "datos_x = d.drop('Tipo_vivienda', axis=1).columns\n",
        "X = d.drop(['Tipo_vivienda', 'P8520', 'P4065', 'P5661', 'FEX_C', 'P8520S4A1' ], axis=1).values\n",
        "y = d.Tipo_vivienda.values\n",
        "\n",
        "X_train, X_test, y_train, y_test = train_test_split(X, y, test_size=0.2)\n",
        "\n",
        "#Se prepara el estimador\n",
        "DT = DecisionTreeClassifier(max_depth=10)\n",
        "\n",
        "#Se estrena el estimador usando los datos destinados para el entrenamiento.\n",
        "dtf = DT.fit(X_train,y_train)\n",
        "\n",
        "#Se obtienen los datos de predicción\n",
        "y_pred = dtf.predict(X_test)\n",
        "\n",
        "print(\"----------------RESULTADOS----------------- \\n\")\n",
        "print(\"- Accuracy test: \", metrics.accuracy_score(y_test, y_pred))\n",
        "s = cross_val_score(dtf, X_test, y_test, cv=KFold(10, shuffle=True), scoring=make_scorer(accuracy_score))\n",
        "print(\"- KFold Accuracy Test: %.10f (+/- %.5f)\"%(np.mean(s), np.std(s)))\n",
        "mae = mean_absolute_error(y_test, y_pred)\n",
        "print(\"- RMAE = \", np.sqrt(mae))\n",
        "print(\"- Características más importantes: \")\n",
        "print(dict(zip(datos_x, dtf.feature_importances_)))\n",
        "print(\"- Tiempo de Ejecución: %s segundos ---\" % (time.time() - start_time))"
      ],
      "execution_count": 0,
      "outputs": [
        {
          "output_type": "stream",
          "text": [
            "----------------RESULTADOS----------------- \n",
            "\n",
            "- Accuracy test:  0.812718294592316\n",
            "- KFold Accuracy Test: 0.8000703597 (+/- 0.01000)\n",
            "- RMAE =  0.4652827273600663\n",
            "- Características más importantes: \n",
            "{'DIRECTORIO': 0.06151956254995375, 'SECUENCIA_ENCUESTA': 0.0, 'SECUENCIA_P': 0.0, 'ORDEN': 0.0, 'REGION': 0.010639126240475786, 'DPTO': 0.061064370609242295, 'FEX_C': 0.0003188593247164824, 'CANT_HOG_COMPLETOS': 0.00018373902943691678, 'CANT_HOGARES_VIVIENDA': 0.15423837614595676, 'CLASE': 0.013957027925714637, 'Material_paredes': 0.03631625523776573, 'Material_piso': 0.5553384813134594, 'Material_techo': 0.0, 'P8520': 0.035990967013940174, 'Energía_eléctrica': 0.0006078847641099336, 'Estrato': 0.011142496193352936, 'Acueducto': 0.005770136491096759, 'Alcantarillado': 0.0036800894680740436, 'Recoleccion_basuras': 0.00031590808255777474, 'P8520S4A1': 0.0008786726682301494, 'P4065': 0.0014894652403799858, 'Inundaciones': 0.007381845529946635, 'Avalanchas': 0.004658118297930042, 'Hundimiento': 0.003985539693867878, 'Ventarrones': 0.004170064202564874, 'P5661': 0.0034105775489594948, 'Ruidos': 0.0065793665716265964, 'Malos_olores': 0.00607791532587258, 'Presencia_basuras': 0.01028515453076838}\n",
            "- Tiempo de Ejecución: 1.195533037185669 segundos ---\n"
          ],
          "name": "stdout"
        }
      ]
    },
    {
      "cell_type": "markdown",
      "metadata": {
        "colab_type": "text",
        "id": "yViAIHxfaGxA"
      },
      "source": [
        "**OBSERVACIONES SOBRE RESULTADOS DE CLASIFICADORES**\n",
        "\n",
        "\n",
        "* El clasificador con mayor accuracy es el RF con los Subdatos B para train y para test. \n",
        "* El clasificador que tarda más tiempo es el SVM tanto para los subdatos A como los subtados B\n",
        "* El clasificador con menor accuracy es el SVM con kernel rbf\n",
        "\n"
      ]
    },
    {
      "cell_type": "markdown",
      "metadata": {
        "colab_type": "text",
        "id": "pGdynQBsbIFD"
      },
      "source": [
        "# **4.3. CLASIFICACIÓN POR MATERIAL DEL TECHO**\n"
      ]
    },
    {
      "cell_type": "markdown",
      "metadata": {
        "id": "uPiNUvcnXl99",
        "colab_type": "text"
      },
      "source": [
        "El material del techo de una vivienda nos permite determinar las condiciones en las que viven los ciudadanos, si son aptas para obtener una buena calidad de vida.<br>\n",
        "Dentro de las opciones que nos brinda la columna tenemos:<br>\n",
        "1 Plancha de concreto, cemento u hormigón<br>\n",
        "2 Tejas de barro<br>\n",
        "3 Teja de asbesto - cemento<br>\n",
        "4 Teja metálica o lámina de zinc<br>\n",
        "5 Teja plástica<br>\n",
        "6 Paja, palma u otros vegetales<br>\n",
        "7 Material de desecho (tela, cartón,latas, plástico, otros)<br>\n"
      ]
    },
    {
      "cell_type": "markdown",
      "metadata": {
        "colab_type": "text",
        "id": "mVLxXOv5bIFI"
      },
      "source": [
        "## Random Forest Classifier\n",
        "\n",
        "\n"
      ]
    },
    {
      "cell_type": "markdown",
      "metadata": {
        "colab_type": "text",
        "id": "CNOX5YhqbIFJ"
      },
      "source": [
        "### Subdatos A\n"
      ]
    },
    {
      "cell_type": "code",
      "metadata": {
        "colab_type": "code",
        "outputId": "457505d6-04f5-490d-cf8c-ce54423cd06e",
        "id": "IH7g8DfpbIFJ",
        "colab": {
          "base_uri": "https://localhost:8080/",
          "height": 173
        }
      },
      "source": [
        "#Clasificación de los datos A\n",
        "from sklearn import metrics\n",
        "from sklearn.ensemble import RandomForestClassifier\n",
        "from sklearn.model_selection import train_test_split\n",
        "\n",
        "#Métrica de tiempo\n",
        "start_time = time.time()\n",
        "\n",
        "#Selección de datos\n",
        "datos_x = d0.drop('Material_techo', axis=1).columns\n",
        "X = d0.drop('Material_techo', axis=1).values\n",
        "y = d0.Material_techo.values\n",
        "\n",
        "X_train, X_test, y_train, y_test = train_test_split(X, y, test_size=0.2)\n",
        "\n",
        "#Se prepara el estimador\n",
        "RF = RandomForestClassifier(n_estimators=100, max_depth=50)\n",
        "\n",
        "#Se estrena el estimador usando los datos destinados para el entrenamiento.\n",
        "rff = RF.fit(X_train,y_train)\n",
        "\n",
        "#Se obtienen los datos de predicción\n",
        "y_pred = rff.predict(X_test)\n",
        "\n",
        "print(\"----------------RESULTADOS----------------- \\n\")\n",
        "print(\"- Accuracy test: \", metrics.accuracy_score(y_test, y_pred))\n",
        "s = cross_val_score(rff, X_test, y_test, cv=KFold(10, shuffle=True), scoring=make_scorer(accuracy_score))\n",
        "print(\"- KFold Accuracy Test: %.10f (+/- %.5f)\"%(np.mean(s), np.std(s)))\n",
        "mae = mean_absolute_error(y_test, y_pred)\n",
        "print(\"- RMAE = \", np.sqrt(mae))\n",
        "print(\"- Características más importantes: \")\n",
        "print(dict(zip(datos_x, rff.feature_importances_)))\n",
        "print(\"- Tiempo de Ejecución: %s segundos ---\" % (time.time() - start_time))"
      ],
      "execution_count": 0,
      "outputs": [
        {
          "output_type": "stream",
          "text": [
            "----------------RESULTADOS----------------- \n",
            "\n",
            "- Accuracy test:  0.6723473443333735\n",
            "- KFold Accuracy Test: 0.6496445747 (+/- 0.01162)\n",
            "- RMAE =  0.7238558148943428\n",
            "- Características más importantes: \n",
            "{'DPTO': 0.2990831934575931, 'CLASE': 0.02001917384411075, 'Tipo_vivienda': 0.05495207470272512, 'Material_paredes': 0.06716896519745069, 'Material_piso': 0.08624489689604138, 'Energía_eléctrica': 0.0, 'Estrato': 0.06857720326615382, 'Acueducto': 0.022147769020477725, 'Alcantarillado': 0.02413395348250822, 'Recoleccion_basuras': 0.019130176710816103, 'Inundaciones': 0.012774498710519893, 'Avalanchas': 0.0043758584645217785, 'Hundimiento': 0.007148081143201432, 'Ventarrones': 0.013479431047401198, 'Ruidos': 0.039941030982418094, 'Malos_olores': 0.041339195519144764, 'Presencia_basuras': 0.03739127969091015, 'Contaminacion_aire': 0.03316940259755519, 'Contaminacion_aguas': 0.027276827754474358, 'Invasión_espacio_publico': 0.020662490215690436, 'Presencia_animales': 0.04442090028459684, 'Presencia_insectos': 0.056563597011688775}\n",
            "- Tiempo de Ejecución: 21.136162519454956 segundos ---\n"
          ],
          "name": "stdout"
        }
      ]
    },
    {
      "cell_type": "markdown",
      "metadata": {
        "colab_type": "text",
        "id": "e4baulNebIFN"
      },
      "source": [
        "### Subdatos B"
      ]
    },
    {
      "cell_type": "code",
      "metadata": {
        "colab_type": "code",
        "outputId": "b9da6098-fdcb-4478-8ea0-81b1a4e49f00",
        "id": "yKKWeF-EbIFN",
        "colab": {
          "base_uri": "https://localhost:8080/",
          "height": 173
        }
      },
      "source": [
        "#Clasificación de los datos B\n",
        "from sklearn import metrics\n",
        "from sklearn.ensemble import RandomForestClassifier\n",
        "from sklearn.model_selection import train_test_split\n",
        "\n",
        "#Métrica de tiempo\n",
        "start_time = time.time()\n",
        "\n",
        "#Selección de datos\n",
        "datos_x = d.drop('Material_techo', axis=1).columns\n",
        "X_rfc = d.drop(['Material_techo', 'P8520', 'P4065', 'P5661', 'FEX_C', 'P8520S4A1' ], axis=1).values\n",
        "y_rfc = d.Material_techo.values\n",
        "\n",
        "X_train, X_test, y_train, y_test = train_test_split(X_rfc, y_rfc, test_size=0.2)\n",
        "\n",
        "#Se prepara el estimador\n",
        "RF=RandomForestClassifier(n_estimators=100, max_depth=50)\n",
        "\n",
        "#Se estrena el estimador usando los datos destinados para el entrenamiento.\n",
        "rff = RF.fit(X_train,y_train)\n",
        "\n",
        "#Se obtienen los datos de predicción\n",
        "y_pred = rff.predict(X_test)\n",
        "\n",
        "print(\"----------------RESULTADOS----------------- \\n\")\n",
        "print(\"- Accuracy test: \", metrics.accuracy_score(y_test, y_pred))\n",
        "s = cross_val_score(rff, X_test, y_test, cv=KFold(10, shuffle=True), scoring=make_scorer(accuracy_score))\n",
        "print(\"- KFold Accuracy Test: %.10f (+/- %.5f)\"%(np.mean(s), np.std(s)))\n",
        "mae = mean_absolute_error(y_test, y_pred)\n",
        "print(\"- RMAE = \", np.sqrt(mae))\n",
        "print(\"- Características más importantes: \")\n",
        "print(dict(zip(datos_x, rff.feature_importances_)))\n",
        "print(\"- Tiempo de Ejecución: %s segundos ---\" % (time.time() - start_time))"
      ],
      "execution_count": 0,
      "outputs": [
        {
          "output_type": "stream",
          "text": [
            "----------------RESULTADOS----------------- \n",
            "\n",
            "- Accuracy test:  0.7038419848247621\n",
            "- KFold Accuracy Test: 0.6790920334 (+/- 0.01093)\n",
            "- RMAE =  0.6901258117438935\n",
            "- Características más importantes: \n",
            "{'DIRECTORIO': 0.23827729861898012, 'SECUENCIA_ENCUESTA': 0.0, 'SECUENCIA_P': 0.0, 'ORDEN': 0.0, 'REGION': 0.08722008770492343, 'DPTO': 0.13558020301768262, 'FEX_C': 0.0017097534225722754, 'CANT_HOG_COMPLETOS': 0.0017148344082415048, 'CANT_HOGARES_VIVIENDA': 0.01601045741451825, 'CLASE': 0.04740955722843256, 'Tipo_vivienda': 0.05543827067929303, 'Material_paredes': 0.0643993428836763, 'Material_piso': 0.0, 'P8520': 0.05578186638762158, 'Energía_eléctrica': 0.016660685532999563, 'Estrato': 0.026097808929565165, 'Acueducto': 0.015310347455449534, 'Alcantarillado': 0.009112006339668945, 'Recoleccion_basuras': 0.002987905235899564, 'P8520S4A1': 0.004881262155188056, 'P4065': 0.010036862290807521, 'Inundaciones': 0.027791005142230173, 'Avalanchas': 0.029385957077941123, 'Hundimiento': 0.026137192171576566, 'Ventarrones': 0.022612534624114552, 'P5661': 0.019272920609616846, 'Ruidos': 0.014329132243758397, 'Malos_olores': 0.030654861075235743, 'Presencia_basuras': 0.04118784735000672}\n",
            "- Tiempo de Ejecución: 26.5509033203125 segundos ---\n"
          ],
          "name": "stdout"
        }
      ]
    },
    {
      "cell_type": "markdown",
      "metadata": {
        "colab_type": "text",
        "id": "URggjoThbIFQ"
      },
      "source": [
        "## Support Vector Machine\n"
      ]
    },
    {
      "cell_type": "markdown",
      "metadata": {
        "colab_type": "text",
        "id": "Jn8XLx_NbIFR"
      },
      "source": [
        "### Subdatos A\n"
      ]
    },
    {
      "cell_type": "code",
      "metadata": {
        "colab_type": "code",
        "id": "TEZoOCRDbIFR",
        "outputId": "6c02b927-a8b7-4808-e6aa-a3a567302ef1",
        "colab": {
          "base_uri": "https://localhost:8080/",
          "height": 102
        }
      },
      "source": [
        "#Clasificación de los datos A\n",
        "from sklearn import metrics\n",
        "from sklearn.svm import SVC\n",
        "from sklearn.model_selection import train_test_split\n",
        "\n",
        "#Métrica de tiempo\n",
        "start_time = time.time()\n",
        "\n",
        "#Selección de datos\n",
        "X = d0.drop('Estrato', axis=1).values\n",
        "y = d0.Estrato.values\n",
        "\n",
        "X_train, X_test, y_train, y_test = train_test_split(X, y, test_size=0.2)\n",
        "\n",
        "#Se prepara el estimador\n",
        "SVM=SVC(kernel='rbf')\n",
        "\n",
        "#Se estrena el estimador usando los datos destinados para el entrenamiento.\n",
        "SVM.fit(X_train,y_train)\n",
        "\n",
        "#Se obtienen los datos de predicción\n",
        "y_pred=SVM.predict(X_test)\n",
        "\n",
        "\n",
        "print(\"----------------RESULTADOS----------------- \\n\")\n",
        "print(\"- Accuracy test: \", metrics.accuracy_score(y_test, y_pred))\n",
        "mae = mean_absolute_error(y_test, y_pred)\n",
        "print(\"- RMAE = \", np.sqrt(mae))\n",
        "print(\"- Tiempo de Ejecución: %s segundos ---\" % (time.time() - start_time))"
      ],
      "execution_count": 0,
      "outputs": [
        {
          "output_type": "stream",
          "text": [
            "----------------RESULTADOS----------------- \n",
            "\n",
            "- Accuracy test:  0.5709382151029748\n",
            "- RMAE =  0.891466631134397\n",
            "- Tiempo de Ejecución: 321.37449955940247 segundos ---\n"
          ],
          "name": "stdout"
        }
      ]
    },
    {
      "cell_type": "markdown",
      "metadata": {
        "colab_type": "text",
        "id": "ccijYcEHbIFT"
      },
      "source": [
        "### Subdatos B\n"
      ]
    },
    {
      "cell_type": "code",
      "metadata": {
        "colab_type": "code",
        "outputId": "fd6ee2d3-f144-4670-82c4-47a103d7edce",
        "id": "50CKd7L9bIFT",
        "colab": {
          "base_uri": "https://localhost:8080/",
          "height": 173
        }
      },
      "source": [
        "#Clasificación de los datos B\n",
        "from sklearn import metrics\n",
        "from sklearn.ensemble import RandomForestClassifier\n",
        "from sklearn.model_selection import train_test_split\n",
        "\n",
        "#Métrica de tiempo\n",
        "start_time = time.time()\n",
        "\n",
        "#Selección de datos\n",
        "datos_x = d.drop('Material_techo', axis=1).columns\n",
        "X_rfc = d.drop(['Material_techo', 'P8520', 'P4065', 'P5661', 'FEX_C', 'P8520S4A1' ], axis=1).values\n",
        "y_rfc = d.Material_techo.values\n",
        "\n",
        "X_train, X_test, y_train, y_test = train_test_split(X_rfc, y_rfc, test_size=0.2)\n",
        "\n",
        "#Se prepara el estimador\n",
        "RF=RandomForestClassifier(n_estimators=100, max_depth=50)\n",
        "\n",
        "#Se estrena el estimador usando los datos destinados para el entrenamiento.\n",
        "rff = RF.fit(X_train,y_train)\n",
        "\n",
        "#Se obtienen los datos de predicción\n",
        "y_pred = rff.predict(X_test)\n",
        "\n",
        "print(\"----------------RESULTADOS----------------- \\n\")\n",
        "print(\"- Accuracy test: \", metrics.accuracy_score(y_test, y_pred))\n",
        "s = cross_val_score(rff, X_test, y_test, cv=KFold(10, shuffle=True), scoring=make_scorer(accuracy_score))\n",
        "print(\"- KFold Accuracy Test: %.10f (+/- %.5f)\"%(np.mean(s), np.std(s)))\n",
        "mae = mean_absolute_error(y_test, y_pred)\n",
        "print(\"- RMAE = \", np.sqrt(mae))\n",
        "print(\"- Características más importantes: \")\n",
        "print(dict(zip(datos_x, rff.feature_importances_)))\n",
        "print(\"- Tiempo de Ejecución: %s segundos ---\" % (time.time() - start_time))"
      ],
      "execution_count": 0,
      "outputs": [
        {
          "output_type": "stream",
          "text": [
            "----------------RESULTADOS----------------- \n",
            "\n",
            "- Accuracy test:  0.7075153558954594\n",
            "- KFold Accuracy Test: 0.6865586851 (+/- 0.00837)\n",
            "- RMAE =  0.6852658645157049\n",
            "- Características más importantes: \n",
            "{'DIRECTORIO': 0.2390816650267196, 'SECUENCIA_ENCUESTA': 0.0, 'SECUENCIA_P': 0.0, 'ORDEN': 0.0, 'REGION': 0.08431104983945686, 'DPTO': 0.13702478458740552, 'FEX_C': 0.0015658364299773507, 'CANT_HOG_COMPLETOS': 0.001576662137878956, 'CANT_HOGARES_VIVIENDA': 0.015420289802237247, 'CLASE': 0.045661318979506156, 'Tipo_vivienda': 0.05751905227976215, 'Material_paredes': 0.06377888888598691, 'Material_piso': 0.0, 'P8520': 0.05577516078698545, 'Energía_eléctrica': 0.01719190799587469, 'Estrato': 0.025686490116286254, 'Acueducto': 0.017551387606975007, 'Alcantarillado': 0.009012176961834768, 'Recoleccion_basuras': 0.0029279456735291035, 'P8520S4A1': 0.004921726127078039, 'P4065': 0.0101689095846266, 'Inundaciones': 0.02723672934208133, 'Avalanchas': 0.02881087333191292, 'Hundimiento': 0.02585837872881437, 'Ventarrones': 0.022244040512179857, 'P5661': 0.01994093988911592, 'Ruidos': 0.01431929940581192, 'Malos_olores': 0.03072474024939731, 'Presencia_basuras': 0.0416897457185658}\n",
            "- Tiempo de Ejecución: 26.468188524246216 segundos ---\n"
          ],
          "name": "stdout"
        }
      ]
    },
    {
      "cell_type": "markdown",
      "metadata": {
        "colab_type": "text",
        "id": "MlYAQnpibIFW"
      },
      "source": [
        "## Decision Tree Classifier\n",
        "\n",
        "\n",
        "\n"
      ]
    },
    {
      "cell_type": "markdown",
      "metadata": {
        "colab_type": "text",
        "id": "657j2TxibIFX"
      },
      "source": [
        "### Subdatos A"
      ]
    },
    {
      "cell_type": "code",
      "metadata": {
        "colab_type": "code",
        "outputId": "42e4f3ab-8b4e-4cd8-cb52-22c84231ea4d",
        "id": "8XkwjS6KbIFX",
        "colab": {
          "base_uri": "https://localhost:8080/",
          "height": 173
        }
      },
      "source": [
        "#Clasificación de los datos A\n",
        "from sklearn import metrics\n",
        "from sklearn.tree import DecisionTreeClassifier\n",
        "from sklearn.model_selection import train_test_split\n",
        "\n",
        "#Métrica de tiempo\n",
        "start_time = time.time()\n",
        "\n",
        "#Selección de datos\n",
        "datos_x = d0.drop('Material_techo', axis=1).columns\n",
        "X = d0.drop('Material_techo', axis=1).values\n",
        "y = d0.Material_techo.values\n",
        "\n",
        "X_train, X_test, y_train, y_test = train_test_split(X, y, test_size=0.2)\n",
        "\n",
        "#Se prepara el estimador\n",
        "DT = DecisionTreeClassifier(max_depth=10)\n",
        "\n",
        "#Se estrena el estimador usando los datos destinados para el entrenamiento.\n",
        "dtf = DT.fit(X_train,y_train)\n",
        "\n",
        "#Se obtienen los datos de predicción\n",
        "y_pred = dtf.predict(X_test)\n",
        "\n",
        "print(\"----------------RESULTADOS----------------- \\n\")\n",
        "print(\"- Accuracy test: \", metrics.accuracy_score(y_test, y_pred))\n",
        "s = cross_val_score(dtf, X_test, y_test, cv=KFold(10, shuffle=True), scoring=make_scorer(accuracy_score))\n",
        "print(\"- KFold Accuracy Test: %.10f (+/- %.5f)\"%(np.mean(s), np.std(s)))\n",
        "mae = mean_absolute_error(y_test, y_pred)\n",
        "print(\"- RMAE = \", np.sqrt(mae))\n",
        "print(\"- Características más importantes: \")\n",
        "print(dict(zip(datos_x, dtf.feature_importances_)))\n",
        "print(\"- Tiempo de Ejecución: %s segundos ---\" % (time.time() - start_time))"
      ],
      "execution_count": 0,
      "outputs": [
        {
          "output_type": "stream",
          "text": [
            "----------------RESULTADOS----------------- \n",
            "\n",
            "- Accuracy test:  0.6693363844393593\n",
            "- KFold Accuracy Test: 0.6475371202 (+/- 0.00594)\n",
            "- RMAE =  0.7264301969390663\n",
            "- Características más importantes: \n",
            "{'DPTO': 0.38895119856430227, 'CLASE': 0.021634894977212327, 'Tipo_vivienda': 0.10170942479415344, 'Material_paredes': 0.1121048396194971, 'Material_piso': 0.2727778614387951, 'Energía_eléctrica': 0.0, 'Estrato': 0.04908063115838782, 'Acueducto': 0.006042934447976476, 'Alcantarillado': 0.013718653533898237, 'Recoleccion_basuras': 0.00201803594833555, 'Inundaciones': 0.0013514285782987609, 'Avalanchas': 0.001110609445156596, 'Hundimiento': 0.0011693284694435887, 'Ventarrones': 0.0017774639350506072, 'Ruidos': 0.0028320561199453105, 'Malos_olores': 0.0037794194785023398, 'Presencia_basuras': 0.002330341052247398, 'Contaminacion_aire': 0.002135859832767841, 'Contaminacion_aguas': 0.0035687828258219533, 'Invasión_espacio_publico': 0.00342089345338963, 'Presencia_animales': 0.0031050043879138787, 'Presencia_insectos': 0.005380337938903732}\n",
            "- Tiempo de Ejecución: 0.7042868137359619 segundos ---\n"
          ],
          "name": "stdout"
        }
      ]
    },
    {
      "cell_type": "markdown",
      "metadata": {
        "colab_type": "text",
        "id": "BUbEZQLqbIFZ"
      },
      "source": [
        "### Subdatos B"
      ]
    },
    {
      "cell_type": "code",
      "metadata": {
        "colab_type": "code",
        "id": "eGVsmKXTbIFZ",
        "outputId": "7e50bb58-32f8-4c0c-945b-97abeb66d81c",
        "colab": {
          "base_uri": "https://localhost:8080/",
          "height": 173
        }
      },
      "source": [
        "#Clasificación de los datos B\n",
        "from sklearn import metrics\n",
        "from sklearn.tree import DecisionTreeClassifier\n",
        "from sklearn.model_selection import train_test_split\n",
        "\n",
        "#Métrica de tiempo\n",
        "start_time = time.time()\n",
        "\n",
        "#Selección de datos\n",
        "datos_x = d.drop('Material_techo', axis=1).columns\n",
        "X = d.drop(['Material_techo', 'P8520', 'P4065', 'P5661', 'FEX_C', 'P8520S4A1' ], axis=1).values\n",
        "y = d.Material_techo.values\n",
        "\n",
        "X_train, X_test, y_train, y_test = train_test_split(X, y, test_size=0.2)\n",
        "\n",
        "#Se prepara el estimador\n",
        "DT = DecisionTreeClassifier(max_depth=10)\n",
        "\n",
        "#Se estrena el estimador usando los datos destinados para el entrenamiento.\n",
        "dtf = DT.fit(X_train,y_train)\n",
        "\n",
        "#Se obtienen los datos de predicción\n",
        "y_pred = dtf.predict(X_test)\n",
        "\n",
        "print(\"----------------RESULTADOS----------------- \\n\")\n",
        "print(\"- Accuracy test: \", metrics.accuracy_score(y_test, y_pred))\n",
        "s = cross_val_score(dtf, X_test, y_test, cv=KFold(10, shuffle=True), scoring=make_scorer(accuracy_score))\n",
        "print(\"- KFold Accuracy Test: %.10f (+/- %.5f)\"%(np.mean(s), np.std(s)))\n",
        "mae = mean_absolute_error(y_test, y_pred)\n",
        "print(\"- RMAE = \", np.sqrt(mae))\n",
        "print(\"- Características más importantes: \")\n",
        "print(dict(zip(datos_x, dtf.feature_importances_)))\n",
        "print(\"- Tiempo de Ejecución: %s segundos ---\" % (time.time() - start_time))"
      ],
      "execution_count": 0,
      "outputs": [
        {
          "output_type": "stream",
          "text": [
            "----------------RESULTADOS----------------- \n",
            "\n",
            "- Accuracy test:  0.6845718415030712\n",
            "- KFold Accuracy Test: 0.6701790546 (+/- 0.01356)\n",
            "- RMAE =  0.703991476194662\n",
            "- Características más importantes: \n",
            "{'DIRECTORIO': 0.0314502886395229, 'SECUENCIA_ENCUESTA': 0.0, 'SECUENCIA_P': 0.0, 'ORDEN': 0.0, 'REGION': 0.1240994703119507, 'DPTO': 0.254381311859104, 'FEX_C': 0.0002096577376802621, 'CANT_HOG_COMPLETOS': 9.108176572869846e-05, 'CANT_HOGARES_VIVIENDA': 0.014747112035396942, 'CLASE': 0.1040179616800496, 'Tipo_vivienda': 0.10746155992075326, 'Material_paredes': 0.2698983204388357, 'Material_piso': 0.0, 'P8520': 0.0475966696377271, 'Energía_eléctrica': 0.003246856723167273, 'Estrato': 0.005393634631684139, 'Acueducto': 0.01600830941548022, 'Alcantarillado': 0.0014175532024984763, 'Recoleccion_basuras': 0.00013762634027155327, 'P8520S4A1': 0.0011030278273732313, 'P4065': 0.0019450807222522789, 'Inundaciones': 0.001101739374870834, 'Avalanchas': 0.002308264991709399, 'Hundimiento': 0.0013369438233580772, 'Ventarrones': 0.002142187100869221, 'P5661': 0.0020754654307118415, 'Ruidos': 0.000851531113025327, 'Malos_olores': 0.001932671116420407, 'Presencia_basuras': 0.005045674159558378}\n",
            "- Tiempo de Ejecución: 1.1593241691589355 segundos ---\n"
          ],
          "name": "stdout"
        }
      ]
    },
    {
      "cell_type": "markdown",
      "metadata": {
        "colab_type": "text",
        "id": "VBqloVK-bIFb"
      },
      "source": [
        "<HR>"
      ]
    },
    {
      "cell_type": "markdown",
      "metadata": {
        "colab_type": "text",
        "id": "0qTmUhuPbIFb"
      },
      "source": [
        "**OBSERVACIONES SOBRE RESULTADOS DE CLASIFICADORES**\n",
        "\n",
        "\n",
        "* El clasificador con mayor accuracy es el RF con los Subdatos B para train y para test. \n",
        "* El clasificador que tarda más tiempo es el SVM tanto para los subdatos A como los subtados B\n",
        "* El clasificador con menor accuracy es el SVM con kernel rbf\n",
        "\n"
      ]
    },
    {
      "cell_type": "markdown",
      "metadata": {
        "id": "6t5eBRpDZCCM",
        "colab_type": "text"
      },
      "source": [
        "<hr>"
      ]
    },
    {
      "cell_type": "markdown",
      "metadata": {
        "id": "Aw8W10UaZDtD",
        "colab_type": "text"
      },
      "source": [
        "# **5. APLICACIÓN DE PCA**"
      ]
    },
    {
      "cell_type": "markdown",
      "metadata": {
        "id": "Y_7L4QEMeLmM",
        "colab_type": "text"
      },
      "source": [
        "Principal Component Analysis es una técnica de Extracción de Características que nos permite combinar las entradas de la Encuesta de Calidad de Vida del DANE de una manera específica y eliminar algunas de las variables (características) \"menos importantes\" manteniendo la parte más importante todas las variables\n",
        "\n",
        "*   Se aplica PCA a la clase con mejor accuray score que se obtuvo, el cual es *tipo de Vivienda.*\n",
        "*   Se ajusta el PCA para cada clasificador (RF, SV y DT)\n",
        "\n",
        "\n",
        "\n"
      ]
    },
    {
      "cell_type": "code",
      "metadata": {
        "id": "gIt1V8zaaMZ3",
        "colab_type": "code",
        "outputId": "b98e5d36-a1d1-468c-c6fb-66f4f0bbb326",
        "colab": {
          "base_uri": "https://localhost:8080/",
          "height": 252
        }
      },
      "source": [
        "#Clasificación de los datos\n",
        "from sklearn.svm import SVC\n",
        "from sklearn.ensemble import RandomForestClassifier\n",
        "from sklearn.tree import DecisionTreeClassifier\n",
        "from sklearn.model_selection import train_test_split\n",
        "\n",
        "#Selección de datos\n",
        "X = d0.drop('Tipo_vivienda', axis=1).values\n",
        "y = d0.Tipo_vivienda.values\n",
        "\n",
        "X_train, X_test, y_train, y_test = train_test_split(X, y, test_size=0.2)\n",
        "\n",
        "print(\"-------RESULTADOS---------\")\n",
        "print(\"PCA CON 10 COMPONENTES\")\n",
        "#Generar PCA con 10 componentes - RF\n",
        "p = Pipeline(((\"pca\", PCA(n_components=10)), (\"classifier\",RandomForestClassifier(n_estimators=100, max_depth=50)) ))\n",
        "p.fit(X_train, y_train)\n",
        "print (\"\\n Random Forest Classifier:\")\n",
        "print (\"TRAIN accuracy: %.3f\"%p.score(X_train, y_train))\n",
        "print (\"TEST  accuracy: %.3f\"%p.score(X_test,y_test))\n",
        "\n",
        "#Generar PCA con 10 componentes - SV\n",
        "p = Pipeline(((\"pca\", PCA(n_components=10)), (\"\\n classifier\",SVC(kernel='rbf')) ))\n",
        "p.fit(X_train, y_train)\n",
        "print (\"\\n Support Vector Machine:\")\n",
        "print (\"TRAIN accuracy: %.3f\"%p.score(X_train, y_train))\n",
        "print (\"TEST  accuracy: %.3f\"%p.score(X_test,y_test))\n",
        "\n",
        "#Generar PCA con 10 componentes - DT\n",
        "p = Pipeline(((\"pca\", PCA(n_components=10)), (\"\\n classifier\",DecisionTreeClassifier(max_depth=10)) ))\n",
        "p.fit(X_train, y_train)\n",
        "print (\"\\n Decision Tree Classifier:\")\n",
        "print (\"TRAIN accuracy: %.3f\"%p.score(X_train, y_train))\n",
        "print (\"TEST  accuracy: %.3f\"%p.score(X_test,y_test))"
      ],
      "execution_count": 0,
      "outputs": [
        {
          "output_type": "stream",
          "text": [
            "-------RESULTADOS---------\n",
            "PCA CON 10 COMPONENTES\n",
            "\n",
            " Random Forest Classifier:\n",
            "TRAIN accuracy: 0.941\n",
            "TEST  accuracy: 0.800\n",
            "\n",
            " Support Vector Machine:\n",
            "TRAIN accuracy: 0.805\n",
            "TEST  accuracy: 0.800\n",
            "\n",
            " Decision Tree Classifier:\n",
            "TRAIN accuracy: 0.829\n",
            "TEST  accuracy: 0.801\n"
          ],
          "name": "stdout"
        }
      ]
    },
    {
      "cell_type": "markdown",
      "metadata": {
        "id": "KOVfDadv5nRl",
        "colab_type": "text"
      },
      "source": [
        "---- RESULTADOS SIN PCA ---- <br>\n",
        "\n",
        "\n",
        "*   RF Accuracy test:  0.8121\n",
        "*   SV Accuracy test: 0.7532\n",
        "*   DT Accuracy test: 0.8127\n",
        "\n",
        "\n",
        "*Observación*\n",
        "\n",
        "Se infiere que Support vectorial mejora notablemente su accuracy Test (+0.05) con PCA, mientras que el accuracy Test para Random Forest y Decision Tree decrece muy poco.\n",
        "\n"
      ]
    },
    {
      "cell_type": "markdown",
      "metadata": {
        "id": "ivqVFHvqxOUO",
        "colab_type": "text"
      },
      "source": [
        "<HR>"
      ]
    },
    {
      "cell_type": "markdown",
      "metadata": {
        "id": "g8pSpf7g-dWd",
        "colab_type": "text"
      },
      "source": [
        "# **6. ANALISIS DE RESULTADOS DE CLASIFICADORES**"
      ]
    },
    {
      "cell_type": "markdown",
      "metadata": {
        "id": "e2JX6rBjPmU1",
        "colab_type": "text"
      },
      "source": [
        "Analizando los resultados que se obtuvieron mediante los dos subdatos (subdatos A, subdatos B) se vio mejor rendimiento en los clasificadores con los datos B que tenian mas columnas eliminadas. Apartir de esto se mostrara unas tablas con el producto de los subdatos B.\n"
      ]
    },
    {
      "cell_type": "code",
      "metadata": {
        "id": "VAoF0kFD-aUZ",
        "colab_type": "code",
        "outputId": "cb9f7540-fe73-4112-f277-3fbb19d20802",
        "colab": {
          "base_uri": "https://localhost:8080/",
          "height": 182
        }
      },
      "source": [
        "from IPython.display import HTML, display_html, display\n",
        "\n",
        "t={'Accuracy test' : pd.Series([0.6640973142237745,0.5046970974346622 ,0.6130314344212935 ], index=['Random Forest', 'Support Vector', 'Decision Tree']), 'KFold Accuracy' : pd.Series([0.6168255442, 0.5828602671], index=['Random Forest', 'Decision Tree']),'RMAE' : pd.Series([0.781654643492485,0.9981616246526925 , 0.8447470005163488], index=['Random Forest', 'Support Vector', 'Decision Tree']),'Tiempo de Ejecución' : pd.Series([27.80896806716919,344.6414351463318 , 1.1035921573638916], index=['Random Forest', 'Support Vector', 'Decision Tree'])}\n",
        "tabla = pd.DataFrame(data=t)\n",
        "display(HTML('<h3>ESTRATO</h3>'))\n",
        "tabla"
      ],
      "execution_count": 0,
      "outputs": [
        {
          "output_type": "display_data",
          "data": {
            "text/html": [
              "<h3>ESTRATO</h3>"
            ],
            "text/plain": [
              "<IPython.core.display.HTML object>"
            ]
          },
          "metadata": {
            "tags": []
          }
        },
        {
          "output_type": "execute_result",
          "data": {
            "text/html": [
              "<div>\n",
              "<style scoped>\n",
              "    .dataframe tbody tr th:only-of-type {\n",
              "        vertical-align: middle;\n",
              "    }\n",
              "\n",
              "    .dataframe tbody tr th {\n",
              "        vertical-align: top;\n",
              "    }\n",
              "\n",
              "    .dataframe thead th {\n",
              "        text-align: right;\n",
              "    }\n",
              "</style>\n",
              "<table border=\"1\" class=\"dataframe\">\n",
              "  <thead>\n",
              "    <tr style=\"text-align: right;\">\n",
              "      <th></th>\n",
              "      <th>Accuracy test</th>\n",
              "      <th>KFold Accuracy</th>\n",
              "      <th>RMAE</th>\n",
              "      <th>Tiempo de Ejecución</th>\n",
              "    </tr>\n",
              "  </thead>\n",
              "  <tbody>\n",
              "    <tr>\n",
              "      <th>Decision Tree</th>\n",
              "      <td>0.613031</td>\n",
              "      <td>0.582860</td>\n",
              "      <td>0.844747</td>\n",
              "      <td>1.103592</td>\n",
              "    </tr>\n",
              "    <tr>\n",
              "      <th>Random Forest</th>\n",
              "      <td>0.664097</td>\n",
              "      <td>0.616826</td>\n",
              "      <td>0.781655</td>\n",
              "      <td>27.808968</td>\n",
              "    </tr>\n",
              "    <tr>\n",
              "      <th>Support Vector</th>\n",
              "      <td>0.504697</td>\n",
              "      <td>NaN</td>\n",
              "      <td>0.998162</td>\n",
              "      <td>344.641435</td>\n",
              "    </tr>\n",
              "  </tbody>\n",
              "</table>\n",
              "</div>"
            ],
            "text/plain": [
              "                Accuracy test  KFold Accuracy      RMAE  Tiempo de Ejecución\n",
              "Decision Tree        0.613031        0.582860  0.844747             1.103592\n",
              "Random Forest        0.664097        0.616826  0.781655            27.808968\n",
              "Support Vector       0.504697             NaN  0.998162           344.641435"
            ]
          },
          "metadata": {
            "tags": []
          },
          "execution_count": 31
        }
      ]
    },
    {
      "cell_type": "code",
      "metadata": {
        "id": "p7LTNWKe1yVu",
        "colab_type": "code",
        "outputId": "41baad87-4166-4986-86a7-52e2bce51089",
        "colab": {
          "base_uri": "https://localhost:8080/",
          "height": 373
        }
      },
      "source": [
        "fig=plt.figure(figsize=(20,5))\n",
        "plt.subplot(1,4,1)\n",
        "plt.title('Accuracy test')\n",
        "y1= pd.Series([0.6640973142237745,0.5046970974346622 ,0.6130314344212935 ])              \n",
        "x1= ['Random Forest', 'Support Vector', 'Decision Tree']\n",
        "plt.bar(x1, y1, align=\"center\")\n",
        "\n",
        "plt.subplot(1,4,2)\n",
        "plt.title('KFold Accuracy')\n",
        "x1= ['Random Forest', 'Decision Tree']\n",
        "y2= pd.Series([0.6168255442, 0.5828602671])\n",
        "plt.bar(x1, y2, align=\"center\", color=\"g\")\n",
        "\n",
        "plt.subplot(1,4,3)\n",
        "plt.title('RMAE')\n",
        "x1= ['Random Forest', 'Support Vector', 'Decision Tree']\n",
        "y3= pd.Series([0.781654643492485,0.9981616246526925 , 0.8447470005163488])\n",
        "plt.bar(x1, y3, align=\"center\", color=\"r\")\n",
        "\n",
        "plt.subplot(1,4,4)\n",
        "plt.title('TIME')\n",
        "x1= ['Random Forest', 'Support Vector', 'Decision Tree']\n",
        "y4= pd.Series([27.80896806716919,344.6414351463318 , 1.1035921573638916]) #tiempo\n",
        "plt.bar(x1, y4, align=\"center\", color=\"Y\")\n",
        "\n",
        "plt.show()"
      ],
      "execution_count": 0,
      "outputs": [
        {
          "output_type": "stream",
          "text": [
            "/usr/local/lib/python3.6/dist-packages/ipykernel_launcher.py:24: MatplotlibDeprecationWarning: Support for uppercase single-letter colors is deprecated since Matplotlib 3.1 and will be removed in 3.3; please use lowercase instead.\n"
          ],
          "name": "stderr"
        },
        {
          "output_type": "display_data",
          "data": {
            "image/png": "[encoded data removed]",
            "text/plain": [
              "<Figure size 1440x360 with 4 Axes>"
            ]
          },
          "metadata": {
            "tags": []
          }
        }
      ]
    },
    {
      "cell_type": "markdown",
      "metadata": {
        "id": "iJ4Cg1pdChFG",
        "colab_type": "text"
      },
      "source": [
        "Con las graficas podemos ver de una mejor manera el comportamiento de cada uno de los clasificadores cuando se toma como ground truth la columna estrato, debido a los datos que contiene el dataset podemos observar que el accuracy se encuentra en un rango de 0.5 a 0.7 lo cual podemos considerarlo como un resultado aceptable para nuestro trabajo de clase, sin embargo, podemos notar que el clasificador que mejor se comporta en este caso es el Random Forest teniendo en cuenta su precisión y su poco tiempo de ejecución a comparción de los otros dos clasificadores.\n"
      ]
    },
    {
      "cell_type": "code",
      "metadata": {
        "id": "LTdKtuCDJns-",
        "colab_type": "code",
        "outputId": "40f62d07-20da-474f-f64a-7b3530e25706",
        "colab": {
          "base_uri": "https://localhost:8080/",
          "height": 182
        }
      },
      "source": [
        "t2={'Accuracy test' : pd.Series([0.8121161026135132,0.7532819462844755 ,0.812718294592316 ], index=['Random Forest', 'Support Vector', 'Decision Tree']), 'KFold Accuracy' : pd.Series([0.8027813481, 0.8000703597], index=['Random Forest', 'Decision Tree']),'RMAE' : pd.Series([0.4639217748975961, 0.5284282548945296, 0.4652827273600663], index=['Random Forest', 'Support Vector', 'Decision Tree']),'Tiempo de Ejecución' : pd.Series([23.54857635498047, 185.23534488677979, 1.195533037185669], index=['Random Forest', 'Support Vector', 'Decision Tree'])}\n",
        "tabla2 = pd.DataFrame(data=t2)\n",
        "display(HTML('<h3>TIPO DE VIVIENDA</h3>'))\n",
        "tabla2"
      ],
      "execution_count": 0,
      "outputs": [
        {
          "output_type": "display_data",
          "data": {
            "text/html": [
              "<h3>TIPO DE VIVIENDA</h3>"
            ],
            "text/plain": [
              "<IPython.core.display.HTML object>"
            ]
          },
          "metadata": {
            "tags": []
          }
        },
        {
          "output_type": "execute_result",
          "data": {
            "text/html": [
              "<div>\n",
              "<style scoped>\n",
              "    .dataframe tbody tr th:only-of-type {\n",
              "        vertical-align: middle;\n",
              "    }\n",
              "\n",
              "    .dataframe tbody tr th {\n",
              "        vertical-align: top;\n",
              "    }\n",
              "\n",
              "    .dataframe thead th {\n",
              "        text-align: right;\n",
              "    }\n",
              "</style>\n",
              "<table border=\"1\" class=\"dataframe\">\n",
              "  <thead>\n",
              "    <tr style=\"text-align: right;\">\n",
              "      <th></th>\n",
              "      <th>Accuracy test</th>\n",
              "      <th>KFold Accuracy</th>\n",
              "      <th>RMAE</th>\n",
              "      <th>Tiempo de Ejecución</th>\n",
              "    </tr>\n",
              "  </thead>\n",
              "  <tbody>\n",
              "    <tr>\n",
              "      <th>Decision Tree</th>\n",
              "      <td>0.812718</td>\n",
              "      <td>0.800070</td>\n",
              "      <td>0.465283</td>\n",
              "      <td>1.195533</td>\n",
              "    </tr>\n",
              "    <tr>\n",
              "      <th>Random Forest</th>\n",
              "      <td>0.812116</td>\n",
              "      <td>0.802781</td>\n",
              "      <td>0.463922</td>\n",
              "      <td>23.548576</td>\n",
              "    </tr>\n",
              "    <tr>\n",
              "      <th>Support Vector</th>\n",
              "      <td>0.753282</td>\n",
              "      <td>NaN</td>\n",
              "      <td>0.528428</td>\n",
              "      <td>185.235345</td>\n",
              "    </tr>\n",
              "  </tbody>\n",
              "</table>\n",
              "</div>"
            ],
            "text/plain": [
              "                Accuracy test  KFold Accuracy      RMAE  Tiempo de Ejecución\n",
              "Decision Tree        0.812718        0.800070  0.465283             1.195533\n",
              "Random Forest        0.812116        0.802781  0.463922            23.548576\n",
              "Support Vector       0.753282             NaN  0.528428           185.235345"
            ]
          },
          "metadata": {
            "tags": []
          },
          "execution_count": 19
        }
      ]
    },
    {
      "cell_type": "code",
      "metadata": {
        "id": "UFWQPKrE9ZeP",
        "colab_type": "code",
        "outputId": "37cff928-f3b1-4ae0-fb3e-d6b4cde7623e",
        "colab": {
          "base_uri": "https://localhost:8080/",
          "height": 312
        }
      },
      "source": [
        "fig=plt.figure(figsize=(20,5))\n",
        "plt.subplot(1,4,1)\n",
        "plt.title('Accuracy test')\n",
        "y1= pd.Series([0.8121161026135132,0.7532819462844755 ,0.812718294592316 ])              \n",
        "x1= ['Random Forest', 'Support Vector', 'Decision Tree']\n",
        "plt.bar(x1, y1, align=\"center\")\n",
        "\n",
        "plt.subplot(1,4,2)\n",
        "plt.title('KFold Accuracy')\n",
        "x1= ['Random Forest', 'Decision Tree']\n",
        "y2= pd.Series([0.8027813481, 0.8000703597])\n",
        "plt.bar(x1, y2, align=\"center\", color=\"g\")\n",
        "\n",
        "plt.subplot(1,4,3)\n",
        "plt.title('RMAE')\n",
        "x1= ['Random Forest', 'Support Vector', 'Decision Tree']\n",
        "y3= pd.Series([0.4639217748975961, 0.5284282548945296, 0.4652827273600663])\n",
        "plt.bar(x1, y3, align=\"center\", color=\"r\")\n",
        "\n",
        "plt.subplot(1,4,4)\n",
        "plt.title('TIME')\n",
        "x1= ['Random Forest', 'Support Vector', 'Decision Tree']\n",
        "y4= pd.Series([23.54857635498047, 185.23534488677979, 1.195533037185669]) #tiempo\n",
        "plt.bar(x1, y4, align=\"center\", color=\"Y\")\n",
        "\n",
        "plt.show()"
      ],
      "execution_count": 0,
      "outputs": [
        {
          "output_type": "display_data",
          "data": {
            "image/png": "[encoded data removed]",
            "text/plain": [
              "<Figure size 1440x360 with 4 Axes>"
            ]
          },
          "metadata": {
            "tags": []
          }
        }
      ]
    },
    {
      "cell_type": "markdown",
      "metadata": {
        "id": "gPJgJbncEDDX",
        "colab_type": "text"
      },
      "source": [
        "En esta parte al analizar los resultados dados por los clasificadores cuando se toma como clase el tipo de vivienda podemos notar que el accuracy de los clasificadores ha aumentado de una manera significativa teniendo en cuenta que esta vez los resultados rondan el rango de 0.75 a 0.81 y notando que los tres clasificadores utilizados se comportaron de una manera muy similar esta vez siendo el ganador el Desision tree al tener el menor tiempo de ejecución y el mejor accuracy, por otro lado teniendo en cuenta el RMAE podemos ver que Support Vector es el que tiene el resultado más elevado pero esto se ve afectado al tener en cuenta el tiempo de ejecución que este gasta al comparar los otros dos."
      ]
    },
    {
      "cell_type": "code",
      "metadata": {
        "id": "z96_J2IeLWmx",
        "colab_type": "code",
        "outputId": "9be393ee-2276-4ba4-8c27-15559adca2bc",
        "colab": {
          "base_uri": "https://localhost:8080/",
          "height": 182
        }
      },
      "source": [
        "t3={'Accuracy test' : pd.Series([0.7038419848247621,0.7075153558954594 ,0.6845718415030712 ], index=['Random Forest', 'Support Vector', 'Decision Tree']), 'KFold Accuracy' : pd.Series([0.6790920334, 0.6865586851, 0.6701790546], index=['Random Forest', 'Support Vector', 'Decision Tree']),'RMAE' : pd.Series([0.6901258117438935, 0.6852658645157049, 0.703991476194662], index=['Random Forest', 'Support Vector', 'Decision Tree']),'Tiempo de Ejecución' : pd.Series([26.5509033203125, 26.468188524246216, 1.1593241691589355], index=['Random Forest', 'Support Vector', 'Decision Tree'])}\n",
        "tabla3 = pd.DataFrame(data=t3)\n",
        "display(HTML('<h3>MATERIAL DEL TECHO</h3>'))\n",
        "tabla3"
      ],
      "execution_count": 0,
      "outputs": [
        {
          "output_type": "display_data",
          "data": {
            "text/html": [
              "<h3>MATERIAL DEL TECHO</h3>"
            ],
            "text/plain": [
              "<IPython.core.display.HTML object>"
            ]
          },
          "metadata": {
            "tags": []
          }
        },
        {
          "output_type": "execute_result",
          "data": {
            "text/html": [
              "<div>\n",
              "<style scoped>\n",
              "    .dataframe tbody tr th:only-of-type {\n",
              "        vertical-align: middle;\n",
              "    }\n",
              "\n",
              "    .dataframe tbody tr th {\n",
              "        vertical-align: top;\n",
              "    }\n",
              "\n",
              "    .dataframe thead th {\n",
              "        text-align: right;\n",
              "    }\n",
              "</style>\n",
              "<table border=\"1\" class=\"dataframe\">\n",
              "  <thead>\n",
              "    <tr style=\"text-align: right;\">\n",
              "      <th></th>\n",
              "      <th>Accuracy test</th>\n",
              "      <th>KFold Accuracy</th>\n",
              "      <th>RMAE</th>\n",
              "      <th>Tiempo de Ejecución</th>\n",
              "    </tr>\n",
              "  </thead>\n",
              "  <tbody>\n",
              "    <tr>\n",
              "      <th>Random Forest</th>\n",
              "      <td>0.703842</td>\n",
              "      <td>0.679092</td>\n",
              "      <td>0.690126</td>\n",
              "      <td>26.550903</td>\n",
              "    </tr>\n",
              "    <tr>\n",
              "      <th>Support Vector</th>\n",
              "      <td>0.707515</td>\n",
              "      <td>0.686559</td>\n",
              "      <td>0.685266</td>\n",
              "      <td>26.468189</td>\n",
              "    </tr>\n",
              "    <tr>\n",
              "      <th>Decision Tree</th>\n",
              "      <td>0.684572</td>\n",
              "      <td>0.670179</td>\n",
              "      <td>0.703991</td>\n",
              "      <td>1.159324</td>\n",
              "    </tr>\n",
              "  </tbody>\n",
              "</table>\n",
              "</div>"
            ],
            "text/plain": [
              "                Accuracy test  KFold Accuracy      RMAE  Tiempo de Ejecución\n",
              "Random Forest        0.703842        0.679092  0.690126            26.550903\n",
              "Support Vector       0.707515        0.686559  0.685266            26.468189\n",
              "Decision Tree        0.684572        0.670179  0.703991             1.159324"
            ]
          },
          "metadata": {
            "tags": []
          },
          "execution_count": 20
        }
      ]
    },
    {
      "cell_type": "code",
      "metadata": {
        "id": "dkK7mVuB_pds",
        "colab_type": "code",
        "outputId": "1793f729-32a5-4a8e-bd34-b598cbbab6fb",
        "colab": {
          "base_uri": "https://localhost:8080/",
          "height": 312
        }
      },
      "source": [
        "fig=plt.figure(figsize=(20,5))\n",
        "plt.subplot(1,4,1)\n",
        "plt.title('Accuracy test')\n",
        "y1= pd.Series([0.7038419848247621,0.7075153558954594 ,0.6845718415030712 ])              \n",
        "x1= ['Random Forest', 'Support Vector', 'Decision Tree']\n",
        "plt.bar(x1, y1, align=\"center\")\n",
        "\n",
        "plt.subplot(1,4,2)\n",
        "plt.title('KFold Accuracy')\n",
        "x1= ['Random Forest', 'Support Vector', 'Decision Tree']\n",
        "y2= pd.Series([0.6790920334, 0.6865586851, 0.6701790546])\n",
        "plt.bar(x1, y2, align=\"center\", color=\"g\")\n",
        "\n",
        "plt.subplot(1,4,3)\n",
        "plt.title('RMAE')\n",
        "x1= ['Random Forest', 'Support Vector', 'Decision Tree']\n",
        "y3= pd.Series([0.6901258117438935, 0.6852658645157049, 0.703991476194662])\n",
        "plt.bar(x1, y3, align=\"center\", color=\"r\")\n",
        "\n",
        "plt.subplot(1,4,4)\n",
        "plt.title('TIME')\n",
        "x1= ['Random Forest', 'Support Vector', 'Decision Tree']\n",
        "y4= pd.Series([26.5509033203125, 26.468188524246216, 1.1593241691589355]) #tiempo\n",
        "plt.bar(x1, y4, align=\"center\", color=\"Y\")\n",
        "\n",
        "plt.show()"
      ],
      "execution_count": 0,
      "outputs": [
        {
          "output_type": "display_data",
          "data": {
            "image/png": "[encoded data removed]",
            "text/plain": [
              "<Figure size 1440x360 with 4 Axes>"
            ]
          },
          "metadata": {
            "tags": []
          }
        }
      ]
    },
    {
      "cell_type": "markdown",
      "metadata": {
        "id": "Bjt04w8WHIWA",
        "colab_type": "text"
      },
      "source": [
        "Por ultimo al tener como clase uno de los materiales de la vivienda en este caso el techo podemos ver que los tres clasificadores tienen resultados muy similares a excepción del tiempo de ejecución el cual podemos ver que el decision tree es mucho menor en comparación."
      ]
    },
    {
      "cell_type": "markdown",
      "metadata": {
        "id": "wfOSciv1Zfaw",
        "colab_type": "text"
      },
      "source": [
        "# **7. CONCLUSIONES**\n",
        "* La muestra de datos B nos garantizó un entrenamiento más preciso en los clasificadores, teniendo en cuenta que posee menos características que la muestra de datos A.\n",
        "* Las características de la encuesta brindó una disticción notable entre el nivel de estrato y tipo de vivienda; es decir, a partir de estas es posible realizar posteriores clasificaciones, involucrando factores sociales.\n",
        "* La clase con mejor acurracy es Tipo de Vivienda. Por lo tanto, se puede inferir que los hogares colombianos se distinguen más por habitar en una casa, apartamento, entre otros que por su nivel de estrato.\n",
        "* La implementación de PCA es notamble, ya que se ajustaron características que, a través de un analisis cualitativo, se consideraban menos importantes cuando cuantitavemente nos dio mejor precisión.\n",
        "* Los clasificadores Random Forest y Decision Tree se ejecutaron en menor tiempo que el Support Vector. También, el acuraccy de estos son mejores en la clasificación de todas las clases ajustadas.\n",
        "* Con KFold Accuracy se aseguró la predicción de los datos pero se arriesga tiempo de ejecución notablemente."
      ]
    }
  ]
}